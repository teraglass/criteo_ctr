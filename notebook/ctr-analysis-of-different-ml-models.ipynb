{
 "cells": [
  {
   "cell_type": "markdown",
   "metadata": {},
   "source": [
    "# Aim of the notebook. \n",
    "In this notebook you'll observe the following points addressed. \n",
    "\n",
    "1. Importance of class balance in classification.\n",
    "2. Models with and without feature engineering to address the importance of feature engineering.\n",
    "3. Analysis of different ML models.\n",
    "4. Importance of cross-validation and maintaining the history.\n"
   ]
  },
  {
   "cell_type": "markdown",
   "metadata": {},
   "source": [
    "# Loading requiered libraries."
   ]
  },
  {
   "cell_type": "code",
   "execution_count": 1,
   "metadata": {
    "execution": {
     "iopub.execute_input": "2023-01-30T18:51:25.930225Z",
     "iopub.status.busy": "2023-01-30T18:51:25.929139Z",
     "iopub.status.idle": "2023-01-30T18:51:28.098142Z",
     "shell.execute_reply": "2023-01-30T18:51:28.097104Z",
     "shell.execute_reply.started": "2023-01-30T18:51:25.930102Z"
    },
    "trusted": true
   },
   "outputs": [
    {
     "ename": "ModuleNotFoundError",
     "evalue": "No module named 'imblearn'",
     "output_type": "error",
     "traceback": [
      "\u001b[31m---------------------------------------------------------------------------\u001b[39m",
      "\u001b[31mModuleNotFoundError\u001b[39m                       Traceback (most recent call last)",
      "\u001b[36mCell\u001b[39m\u001b[36m \u001b[39m\u001b[32mIn[1]\u001b[39m\u001b[32m, line 19\u001b[39m\n\u001b[32m     17\u001b[39m \u001b[38;5;28;01mfrom\u001b[39;00m\u001b[38;5;250m \u001b[39m\u001b[34;01msklearn\u001b[39;00m\u001b[34;01m.\u001b[39;00m\u001b[34;01mdummy\u001b[39;00m\u001b[38;5;250m \u001b[39m\u001b[38;5;28;01mimport\u001b[39;00m DummyClassifier\n\u001b[32m     18\u001b[39m \u001b[38;5;28;01mfrom\u001b[39;00m\u001b[38;5;250m \u001b[39m\u001b[34;01msklearn\u001b[39;00m\u001b[34;01m.\u001b[39;00m\u001b[34;01mmodel_selection\u001b[39;00m\u001b[38;5;250m \u001b[39m\u001b[38;5;28;01mimport\u001b[39;00m cross_val_score\n\u001b[32m---> \u001b[39m\u001b[32m19\u001b[39m \u001b[38;5;28;01mfrom\u001b[39;00m\u001b[38;5;250m \u001b[39m\u001b[34;01mimblearn\u001b[39;00m\u001b[34;01m.\u001b[39;00m\u001b[34;01mover_sampling\u001b[39;00m\u001b[38;5;250m \u001b[39m\u001b[38;5;28;01mimport\u001b[39;00m RandomOverSampler\n\u001b[32m     20\u001b[39m \u001b[38;5;28;01mfrom\u001b[39;00m\u001b[38;5;250m \u001b[39m\u001b[34;01msklearn\u001b[39;00m\u001b[34;01m.\u001b[39;00m\u001b[34;01mtree\u001b[39;00m\u001b[38;5;250m \u001b[39m\u001b[38;5;28;01mimport\u001b[39;00m DecisionTreeClassifier\n\u001b[32m     21\u001b[39m \u001b[38;5;28;01mfrom\u001b[39;00m\u001b[38;5;250m \u001b[39m\u001b[34;01mIPython\u001b[39;00m\u001b[34;01m.\u001b[39;00m\u001b[34;01mdisplay\u001b[39;00m\u001b[38;5;250m \u001b[39m\u001b[38;5;28;01mimport\u001b[39;00m Image  \n",
      "\u001b[31mModuleNotFoundError\u001b[39m: No module named 'imblearn'"
     ]
    }
   ],
   "source": [
    "import pandas as pd\n",
    "import numpy as np\n",
    "import seaborn as sns\n",
    "import matplotlib.pyplot as plt\n",
    "import warnings\n",
    "warnings.filterwarnings('ignore')\n",
    "sns.set_theme(style=\"darkgrid\")\n",
    "pd.set_option('display.max_columns', 0)\n",
    "plt.style.use('ggplot')\n",
    "pd.options.display.float_format = '{:.2f}'.format\n",
    "import math\n",
    "from sklearn.preprocessing import LabelEncoder \n",
    "from sklearn.model_selection import train_test_split\n",
    "from sklearn import metrics\n",
    "from sklearn.linear_model import LogisticRegression\n",
    "from sklearn.preprocessing import MinMaxScaler\n",
    "from sklearn.dummy import DummyClassifier\n",
    "from sklearn.model_selection import cross_val_score\n",
    "from imblearn.over_sampling import RandomOverSampler\n",
    "from sklearn.tree import DecisionTreeClassifier\n",
    "from IPython.display import Image  \n",
    "from six import StringIO\n",
    "from sklearn.tree import export_graphviz\n",
    "import graphviz\n",
    "from sklearn.ensemble import RandomForestClassifier\n",
    "import statsmodels.api as sm\n",
    "from statsmodels.stats.outliers_influence import variance_inflation_factor\n",
    "from sklearn.feature_selection import RFE\n",
    "from sklearn.model_selection import GridSearchCV\n",
    "import random\n",
    "import gzip\n",
    "import category_encoders as ce\n",
    "pd.options.display.float_format = '{:.2f}'.format\n"
   ]
  },
  {
   "cell_type": "markdown",
   "metadata": {},
   "source": [
    "# Reading input data and basic analysis"
   ]
  },
  {
   "cell_type": "code",
   "execution_count": null,
   "metadata": {
    "execution": {
     "iopub.execute_input": "2023-01-30T18:51:28.100248Z",
     "iopub.status.busy": "2023-01-30T18:51:28.099874Z",
     "iopub.status.idle": "2023-01-30T18:56:00.034217Z",
     "shell.execute_reply": "2023-01-30T18:56:00.032938Z",
     "shell.execute_reply.started": "2023-01-30T18:51:28.100216Z"
    },
    "trusted": true
   },
   "outputs": [],
   "source": [
    "# Reading the input data\n",
    "\n",
    "num_records = 40428967\n",
    "sample_size = 5000000\n",
    "skip_values = sorted(random.sample(range(1,num_records), num_records - sample_size))\n",
    "parse_date = lambda val : pd.datetime.strptime(val, '%y%m%d%H')\n",
    "\n",
    "train = pd.read_csv(\"D:\\\\criteo_ctr_mlops\\\\data\\\\train.gz\", parse_dates=['hour'], date_parser=parse_date,\\\n",
    "                     skiprows=skip_values)\n",
    "train.head(2)"
   ]
  },
  {
   "cell_type": "code",
   "execution_count": null,
   "metadata": {
    "execution": {
     "iopub.execute_input": "2023-01-30T18:56:00.036613Z",
     "iopub.status.busy": "2023-01-30T18:56:00.035518Z",
     "iopub.status.idle": "2023-01-30T18:57:50.864007Z",
     "shell.execute_reply": "2023-01-30T18:57:50.86261Z",
     "shell.execute_reply.started": "2023-01-30T18:56:00.036574Z"
    },
    "trusted": true
   },
   "outputs": [],
   "source": [
    "# Reading the test data.\n",
    "\n",
    "test = pd.read_csv('D:\\\\criteo_ctr_mlops\\\\data\\\\test.gz', parse_dates=['hour'], date_parser=parse_date)\n",
    "test.head(2)"
   ]
  },
  {
   "cell_type": "code",
   "execution_count": null,
   "metadata": {
    "execution": {
     "iopub.execute_input": "2023-01-30T18:57:50.867079Z",
     "iopub.status.busy": "2023-01-30T18:57:50.866645Z",
     "iopub.status.idle": "2023-01-30T18:57:53.689713Z",
     "shell.execute_reply": "2023-01-30T18:57:53.687848Z",
     "shell.execute_reply.started": "2023-01-30T18:57:50.867043Z"
    },
    "trusted": true
   },
   "outputs": [],
   "source": [
    "# Submission file for final score.\n",
    "\n",
    "submission = pd.read_csv('D:\\\\criteo_ctr_mlops\\\\data\\\\sampleSubmission.gz')\n",
    "submission.head(2)"
   ]
  },
  {
   "cell_type": "code",
   "execution_count": null,
   "metadata": {
    "execution": {
     "iopub.execute_input": "2023-01-30T18:57:53.692142Z",
     "iopub.status.busy": "2023-01-30T18:57:53.691662Z",
     "iopub.status.idle": "2023-01-30T18:57:53.703448Z",
     "shell.execute_reply": "2023-01-30T18:57:53.702137Z",
     "shell.execute_reply.started": "2023-01-30T18:57:53.692104Z"
    },
    "trusted": true
   },
   "outputs": [],
   "source": [
    "# shape of the data read. \n",
    "\n",
    "print('Train dataset:',train.shape)\n",
    "print('Test dataset:',test.shape)\n",
    "print('Submission:',submission.shape)"
   ]
  },
  {
   "cell_type": "code",
   "execution_count": null,
   "metadata": {
    "execution": {
     "iopub.execute_input": "2023-01-30T18:57:53.705159Z",
     "iopub.status.busy": "2023-01-30T18:57:53.704672Z",
     "iopub.status.idle": "2023-01-30T18:57:55.899957Z",
     "shell.execute_reply": "2023-01-30T18:57:55.898221Z",
     "shell.execute_reply.started": "2023-01-30T18:57:53.705119Z"
    },
    "trusted": true
   },
   "outputs": [],
   "source": [
    "# hour column contains event date with all the details, extracting the same to create different columns.\n",
    "\n",
    "train['month'] = train['hour'].dt.month\n",
    "train['dayofweek'] = train['hour'].dt.dayofweek\n",
    "train['day'] = train['hour'].dt.day\n",
    "train['hour_time'] = train['hour'].dt.hour\n",
    "train.head(2)"
   ]
  },
  {
   "cell_type": "code",
   "execution_count": null,
   "metadata": {
    "execution": {
     "iopub.execute_input": "2023-01-30T18:57:55.903431Z",
     "iopub.status.busy": "2023-01-30T18:57:55.902784Z",
     "iopub.status.idle": "2023-01-30T18:57:55.927387Z",
     "shell.execute_reply": "2023-01-30T18:57:55.925756Z",
     "shell.execute_reply.started": "2023-01-30T18:57:55.90336Z"
    },
    "trusted": true
   },
   "outputs": [],
   "source": [
    "# checking the sum of the null values across all cloumns and rows.\n",
    "\n",
    "train['hour'].isnull().sum().sum()"
   ]
  },
  {
   "cell_type": "code",
   "execution_count": null,
   "metadata": {
    "execution": {
     "iopub.execute_input": "2023-01-30T18:57:55.930092Z",
     "iopub.status.busy": "2023-01-30T18:57:55.929479Z",
     "iopub.status.idle": "2023-01-30T18:57:55.951246Z",
     "shell.execute_reply": "2023-01-30T18:57:55.949819Z",
     "shell.execute_reply.started": "2023-01-30T18:57:55.930051Z"
    },
    "trusted": true
   },
   "outputs": [],
   "source": [
    "# info on each column of training dataset.\n",
    "\n",
    "train.info()"
   ]
  },
  {
   "cell_type": "code",
   "execution_count": null,
   "metadata": {
    "execution": {
     "iopub.execute_input": "2023-01-30T18:57:55.95341Z",
     "iopub.status.busy": "2023-01-30T18:57:55.952873Z",
     "iopub.status.idle": "2023-01-30T18:57:58.172003Z",
     "shell.execute_reply": "2023-01-30T18:57:58.170505Z",
     "shell.execute_reply.started": "2023-01-30T18:57:55.953359Z"
    },
    "trusted": true
   },
   "outputs": [],
   "source": [
    "# No null values found in the dataset.\n",
    "\n",
    "train.isnull().sum()"
   ]
  },
  {
   "cell_type": "code",
   "execution_count": null,
   "metadata": {
    "execution": {
     "iopub.execute_input": "2023-01-30T18:57:58.176913Z",
     "iopub.status.busy": "2023-01-30T18:57:58.176419Z",
     "iopub.status.idle": "2023-01-30T18:58:02.336494Z",
     "shell.execute_reply": "2023-01-30T18:58:02.334763Z",
     "shell.execute_reply.started": "2023-01-30T18:57:58.176876Z"
    },
    "trusted": true
   },
   "outputs": [],
   "source": [
    "# looks like following columns have outliers  C15, C16, C19, C21. \n",
    "\n",
    "train.describe()"
   ]
  },
  {
   "cell_type": "code",
   "execution_count": null,
   "metadata": {
    "execution": {
     "iopub.execute_input": "2023-01-30T18:58:02.339155Z",
     "iopub.status.busy": "2023-01-30T18:58:02.338712Z",
     "iopub.status.idle": "2023-01-30T18:58:02.920048Z",
     "shell.execute_reply": "2023-01-30T18:58:02.918501Z",
     "shell.execute_reply.started": "2023-01-30T18:58:02.339118Z"
    },
    "trusted": true
   },
   "outputs": [],
   "source": [
    "# Dealing with outliers by capping\n",
    "\n",
    "col = ['C15', 'C16', 'C19', 'C21']\n",
    "for col in col:\n",
    "    percentiles = train[col].quantile(0.98)\n",
    "    if train[col].quantile(0.98) < 0.5 * train[col].max():\n",
    "        train[col][train[col] >= percentiles] = percentiles"
   ]
  },
  {
   "cell_type": "code",
   "execution_count": null,
   "metadata": {
    "execution": {
     "iopub.execute_input": "2023-01-30T18:58:02.922954Z",
     "iopub.status.busy": "2023-01-30T18:58:02.922265Z",
     "iopub.status.idle": "2023-01-30T18:58:02.937985Z",
     "shell.execute_reply": "2023-01-30T18:58:02.935845Z",
     "shell.execute_reply.started": "2023-01-30T18:58:02.922895Z"
    },
    "trusted": true
   },
   "outputs": [],
   "source": [
    "# segrigating numerical and categorical variables.\n",
    "\n",
    "numerical = []\n",
    "categorical = []\n",
    "\n",
    "for col in (train.columns):\n",
    "    if train[col].dtype == \"object\":\n",
    "        categorical.append(col)\n",
    "    else:\n",
    "        numerical.append(col)\n",
    "print(\"numerical columns = \",numerical)\n",
    "print(\"\\ncategorical columns = \",categorical)"
   ]
  },
  {
   "cell_type": "code",
   "execution_count": null,
   "metadata": {
    "execution": {
     "iopub.execute_input": "2023-01-30T18:58:02.94049Z",
     "iopub.status.busy": "2023-01-30T18:58:02.939878Z",
     "iopub.status.idle": "2023-01-30T18:58:03.774679Z",
     "shell.execute_reply": "2023-01-30T18:58:03.773127Z",
     "shell.execute_reply.started": "2023-01-30T18:58:02.940442Z"
    },
    "trusted": true
   },
   "outputs": [],
   "source": [
    "# y is the target variable, analysing the same.\n",
    "# 83% values are 0 and 17% values are 1. data is highly imbalance. \n",
    "\n",
    "print(train.click.value_counts(normalize = True))\n",
    "print(\"\\n\")\n",
    "plt.figure()\n",
    "sns.countplot(x='click', data=train)\n",
    "plt.show()"
   ]
  },
  {
   "cell_type": "markdown",
   "metadata": {},
   "source": [
    "# Analysing categorical variables."
   ]
  },
  {
   "cell_type": "code",
   "execution_count": null,
   "metadata": {
    "execution": {
     "iopub.execute_input": "2023-01-30T18:58:03.777014Z",
     "iopub.status.busy": "2023-01-30T18:58:03.776386Z",
     "iopub.status.idle": "2023-01-30T18:58:04.541Z",
     "shell.execute_reply": "2023-01-30T18:58:04.539675Z",
     "shell.execute_reply.started": "2023-01-30T18:58:03.776968Z"
    },
    "trusted": true
   },
   "outputs": [],
   "source": [
    "print(\"unique counts of site_id\", len(train['site_id'].unique()))\n",
    "print(\"----------------------\")\n",
    "print(train['site_id'].value_counts(normalize = True))"
   ]
  },
  {
   "cell_type": "code",
   "execution_count": null,
   "metadata": {
    "execution": {
     "iopub.execute_input": "2023-01-30T18:58:04.543527Z",
     "iopub.status.busy": "2023-01-30T18:58:04.542949Z",
     "iopub.status.idle": "2023-01-30T18:58:05.30384Z",
     "shell.execute_reply": "2023-01-30T18:58:05.302159Z",
     "shell.execute_reply.started": "2023-01-30T18:58:04.543488Z"
    },
    "trusted": true
   },
   "outputs": [],
   "source": [
    "print(\"unique counts of site_domain\", len(train['site_domain'].unique()))\n",
    "print(\"----------------------\")\n",
    "print(train['site_domain'].value_counts(normalize = True))"
   ]
  },
  {
   "cell_type": "code",
   "execution_count": null,
   "metadata": {
    "execution": {
     "iopub.execute_input": "2023-01-30T18:58:05.30652Z",
     "iopub.status.busy": "2023-01-30T18:58:05.306127Z",
     "iopub.status.idle": "2023-01-30T18:58:06.019917Z",
     "shell.execute_reply": "2023-01-30T18:58:06.018547Z",
     "shell.execute_reply.started": "2023-01-30T18:58:05.306487Z"
    },
    "trusted": true
   },
   "outputs": [],
   "source": [
    "print(\"unique counts of site_category\", len(train['site_category'].unique()))\n",
    "print(\"----------------------\")\n",
    "print(train['site_category'].value_counts(normalize = True))"
   ]
  },
  {
   "cell_type": "code",
   "execution_count": null,
   "metadata": {
    "execution": {
     "iopub.execute_input": "2023-01-30T18:58:06.023463Z",
     "iopub.status.busy": "2023-01-30T18:58:06.022125Z",
     "iopub.status.idle": "2023-01-30T18:58:06.789699Z",
     "shell.execute_reply": "2023-01-30T18:58:06.788203Z",
     "shell.execute_reply.started": "2023-01-30T18:58:06.02341Z"
    },
    "trusted": true
   },
   "outputs": [],
   "source": [
    "print(\"unique counts of app_id\", len(train['app_id'].unique()))\n",
    "print(\"----------------------\")\n",
    "print(train['app_id'].value_counts(normalize = True))"
   ]
  },
  {
   "cell_type": "code",
   "execution_count": null,
   "metadata": {
    "execution": {
     "iopub.execute_input": "2023-01-30T18:58:06.791461Z",
     "iopub.status.busy": "2023-01-30T18:58:06.791001Z",
     "iopub.status.idle": "2023-01-30T18:58:07.587345Z",
     "shell.execute_reply": "2023-01-30T18:58:07.585501Z",
     "shell.execute_reply.started": "2023-01-30T18:58:06.791415Z"
    },
    "trusted": true
   },
   "outputs": [],
   "source": [
    "print(\"unique counts of app_domain\", len(train['app_domain'].unique()))\n",
    "print(\"----------------------\")\n",
    "print(train['app_domain'].value_counts(normalize = True))"
   ]
  },
  {
   "cell_type": "code",
   "execution_count": null,
   "metadata": {
    "execution": {
     "iopub.execute_input": "2023-01-30T18:58:07.591705Z",
     "iopub.status.busy": "2023-01-30T18:58:07.590718Z",
     "iopub.status.idle": "2023-01-30T18:58:08.34933Z",
     "shell.execute_reply": "2023-01-30T18:58:08.347825Z",
     "shell.execute_reply.started": "2023-01-30T18:58:07.591652Z"
    },
    "trusted": true
   },
   "outputs": [],
   "source": [
    "print(\"unique counts of app_category\", len(train['app_category'].unique()))\n",
    "print(\"----------------------\")\n",
    "print(train['app_category'].value_counts(normalize = True))"
   ]
  },
  {
   "cell_type": "code",
   "execution_count": null,
   "metadata": {
    "execution": {
     "iopub.execute_input": "2023-01-30T18:58:08.351041Z",
     "iopub.status.busy": "2023-01-30T18:58:08.350676Z",
     "iopub.status.idle": "2023-01-30T18:58:09.97189Z",
     "shell.execute_reply": "2023-01-30T18:58:09.970491Z",
     "shell.execute_reply.started": "2023-01-30T18:58:08.351011Z"
    },
    "trusted": true
   },
   "outputs": [],
   "source": [
    "print(\"unique counts of device_id\", len(train['device_id'].unique()))\n",
    "print(\"----------------------\")\n",
    "print(train['device_id'].value_counts(normalize = True))"
   ]
  },
  {
   "cell_type": "code",
   "execution_count": null,
   "metadata": {
    "execution": {
     "iopub.execute_input": "2023-01-30T18:58:09.974145Z",
     "iopub.status.busy": "2023-01-30T18:58:09.973521Z",
     "iopub.status.idle": "2023-01-30T18:58:16.092384Z",
     "shell.execute_reply": "2023-01-30T18:58:16.090585Z",
     "shell.execute_reply.started": "2023-01-30T18:58:09.97411Z"
    },
    "trusted": true
   },
   "outputs": [],
   "source": [
    "print(\"unique counts of device_ip\", len(train['device_ip'].unique()))\n",
    "print(\"----------------------\")\n",
    "print(train['device_ip'].value_counts(normalize = True))"
   ]
  },
  {
   "cell_type": "code",
   "execution_count": null,
   "metadata": {
    "execution": {
     "iopub.execute_input": "2023-01-30T18:58:16.095453Z",
     "iopub.status.busy": "2023-01-30T18:58:16.09493Z",
     "iopub.status.idle": "2023-01-30T18:58:17.039603Z",
     "shell.execute_reply": "2023-01-30T18:58:17.038085Z",
     "shell.execute_reply.started": "2023-01-30T18:58:16.095407Z"
    },
    "trusted": true
   },
   "outputs": [],
   "source": [
    "print(\"unique counts of device_model\", len(train['device_model'].unique()))\n",
    "print(\"----------------------\")\n",
    "print(train['device_model'].value_counts(normalize = True))"
   ]
  },
  {
   "cell_type": "markdown",
   "metadata": {},
   "source": [
    "## observations :\n",
    "1. All categorical variables have lot of unique values in it, one hot encoding is not a scalable approach. \n",
    "2. we will go with label encoding and scaling approach is a better idea for this."
   ]
  },
  {
   "cell_type": "code",
   "execution_count": null,
   "metadata": {
    "execution": {
     "iopub.execute_input": "2023-01-30T18:58:17.041913Z",
     "iopub.status.busy": "2023-01-30T18:58:17.041355Z",
     "iopub.status.idle": "2023-01-30T19:04:54.879059Z",
     "shell.execute_reply": "2023-01-30T19:04:54.877817Z",
     "shell.execute_reply.started": "2023-01-30T18:58:17.041872Z"
    },
    "trusted": true
   },
   "outputs": [],
   "source": [
    "# The code below will plot histograms for all numerical columns \n",
    "\n",
    "n = 2\n",
    "plt.figure(figsize=[15,3*math.ceil(len(numerical)/n)])\n",
    "\n",
    "for i in range(len(numerical)):\n",
    "    plt.subplot(math.ceil(len(numerical)/n),n,i+1)\n",
    "    sns.distplot(train[numerical[i]])\n",
    "\n",
    "plt.tight_layout()\n",
    "plt.show()"
   ]
  },
  {
   "cell_type": "markdown",
   "metadata": {},
   "source": [
    "## observations \n",
    "1. Y and Click looks like same columns, after co-relation we can drop on of them.\n",
    "2. month column has only 1 data entry, no exrtra information is added, can be dropped \n",
    "3. banner pos, device conn, C20, C15, C16 looks like data is cenetered around certain values. \n"
   ]
  },
  {
   "cell_type": "code",
   "execution_count": null,
   "metadata": {
    "execution": {
     "iopub.execute_input": "2023-01-30T19:04:54.882414Z",
     "iopub.status.busy": "2023-01-30T19:04:54.881026Z",
     "iopub.status.idle": "2023-01-30T19:04:54.890331Z",
     "shell.execute_reply": "2023-01-30T19:04:54.889452Z",
     "shell.execute_reply.started": "2023-01-30T19:04:54.88236Z"
    },
    "trusted": true
   },
   "outputs": [],
   "source": [
    "train.columns"
   ]
  },
  {
   "cell_type": "code",
   "execution_count": null,
   "metadata": {
    "execution": {
     "iopub.execute_input": "2023-01-30T19:04:54.89269Z",
     "iopub.status.busy": "2023-01-30T19:04:54.891961Z",
     "iopub.status.idle": "2023-01-30T19:05:01.886918Z",
     "shell.execute_reply": "2023-01-30T19:05:01.885626Z",
     "shell.execute_reply.started": "2023-01-30T19:04:54.892652Z"
    },
    "trusted": true
   },
   "outputs": [],
   "source": [
    "# Pearson correlation table to find the relationship with output with all input features. \n",
    "\n",
    "corr = train.corr()\n",
    "f, ax = plt.subplots(figsize=(10,10))\n",
    "sns.heatmap(corr, ax=ax, annot=True,linewidths=3,cmap='YlGn')\n",
    "plt.title(\"Pearson correlation of Features\", y=1.05, size=15)"
   ]
  },
  {
   "cell_type": "markdown",
   "metadata": {},
   "source": [
    "## observation\n",
    "1. month has got no significance, better to drop it\n",
    "2. y and click are same drop click column \n",
    "3. C14 and C17 are highly co-related, later will remove one of them after the base model.\n",
    "4. device type with C1 are highly co-related, later will remove one of them after the base model.\n",
    "5. Removing C20 anomalised column, since it have got nearly 47% of values with -1. As a categorical variable\n",
    "it's not expected to have values as -1."
   ]
  },
  {
   "cell_type": "code",
   "execution_count": null,
   "metadata": {
    "execution": {
     "iopub.execute_input": "2023-01-30T19:05:01.88892Z",
     "iopub.status.busy": "2023-01-30T19:05:01.888439Z",
     "iopub.status.idle": "2023-01-30T19:05:02.771086Z",
     "shell.execute_reply": "2023-01-30T19:05:02.769833Z",
     "shell.execute_reply.started": "2023-01-30T19:05:01.888857Z"
    },
    "trusted": true
   },
   "outputs": [],
   "source": [
    "# as said above dropping columns. \n",
    "\n",
    "train.drop(['month', 'C20'], axis=1, inplace=True)\n",
    "train.columns"
   ]
  },
  {
   "cell_type": "markdown",
   "metadata": {},
   "source": [
    "# Data preperation\n"
   ]
  },
  {
   "cell_type": "code",
   "execution_count": null,
   "metadata": {
    "execution": {
     "iopub.execute_input": "2023-01-30T19:05:02.772981Z",
     "iopub.status.busy": "2023-01-30T19:05:02.772511Z",
     "iopub.status.idle": "2023-01-30T19:05:03.745936Z",
     "shell.execute_reply": "2023-01-30T19:05:03.744599Z",
     "shell.execute_reply.started": "2023-01-30T19:05:02.77294Z"
    },
    "trusted": true
   },
   "outputs": [],
   "source": [
    "# id column have a unique columns so, keeping that don't proive any significance,hence dropping.\n",
    "# hour column have been derived into different columns, hence dropping. \n",
    "# rename click to y (output)\n",
    "# after dropping hour column, hour_time can be made as hour\n",
    "\n",
    "train.drop(['id', 'hour'], axis = 1, inplace = True) \n",
    "train.rename(columns={'click': 'y',\n",
    "                   'hour_time': 'hour'},\n",
    "          inplace=True, errors='raise')\n",
    "\n",
    "train.columns"
   ]
  },
  {
   "cell_type": "code",
   "execution_count": null,
   "metadata": {
    "execution": {
     "iopub.execute_input": "2023-01-30T19:05:03.75499Z",
     "iopub.status.busy": "2023-01-30T19:05:03.753921Z",
     "iopub.status.idle": "2023-01-30T19:05:04.868058Z",
     "shell.execute_reply": "2023-01-30T19:05:04.866919Z",
     "shell.execute_reply.started": "2023-01-30T19:05:03.754929Z"
    },
    "trusted": true
   },
   "outputs": [],
   "source": [
    "# dataset is huge and running multiple algo will take time and resources might exhaust, \n",
    "# hence taking only 10% of the data for analysis.\n",
    "\n",
    "sampled_data = train.sample(frac=0.1, random_state=42)\n",
    "X = sampled_data.drop(['y'], axis=1)\n",
    "y = sampled_data['y']"
   ]
  },
  {
   "cell_type": "code",
   "execution_count": null,
   "metadata": {
    "execution": {
     "iopub.execute_input": "2023-01-30T19:05:04.86997Z",
     "iopub.status.busy": "2023-01-30T19:05:04.869454Z",
     "iopub.status.idle": "2023-01-30T19:05:05.1574Z",
     "shell.execute_reply": "2023-01-30T19:05:05.156428Z",
     "shell.execute_reply.started": "2023-01-30T19:05:04.869918Z"
    },
    "trusted": true
   },
   "outputs": [],
   "source": [
    "# After taking the sample of data, still the ratio of output remains same.\n",
    "\n",
    "print(train.y.value_counts(normalize = True))\n",
    "print(\"\\n\")\n",
    "plt.figure()\n",
    "sns.countplot(x=y)\n",
    "plt.show()"
   ]
  },
  {
   "cell_type": "code",
   "execution_count": null,
   "metadata": {
    "execution": {
     "iopub.execute_input": "2023-01-30T19:05:05.159564Z",
     "iopub.status.busy": "2023-01-30T19:05:05.158965Z",
     "iopub.status.idle": "2023-01-30T19:05:18.880651Z",
     "shell.execute_reply": "2023-01-30T19:05:18.879487Z",
     "shell.execute_reply.started": "2023-01-30T19:05:05.159529Z"
    },
    "trusted": true
   },
   "outputs": [],
   "source": [
    "target_encoder = ce.TargetEncoder()\n",
    "X = target_encoder.fit_transform(X, y)\n",
    "X.head(2)"
   ]
  },
  {
   "cell_type": "code",
   "execution_count": null,
   "metadata": {
    "execution": {
     "iopub.execute_input": "2023-01-30T19:05:18.882466Z",
     "iopub.status.busy": "2023-01-30T19:05:18.882081Z",
     "iopub.status.idle": "2023-01-30T19:05:18.890979Z",
     "shell.execute_reply": "2023-01-30T19:05:18.889651Z",
     "shell.execute_reply.started": "2023-01-30T19:05:18.882434Z"
    },
    "trusted": true
   },
   "outputs": [],
   "source": [
    "'''\n",
    "target_encoder = ce.TargetEncoder()\n",
    "for col in (X.columns):\n",
    "    if X[col].dtype == \"object\":\n",
    "        X[col] = target_encoder.fit_transform(X[col], y)\n",
    "\n",
    "X.head(2)\n",
    "'''"
   ]
  },
  {
   "cell_type": "code",
   "execution_count": null,
   "metadata": {
    "execution": {
     "iopub.execute_input": "2023-01-30T19:05:18.893242Z",
     "iopub.status.busy": "2023-01-30T19:05:18.89279Z",
     "iopub.status.idle": "2023-01-30T19:05:19.388439Z",
     "shell.execute_reply": "2023-01-30T19:05:19.387227Z",
     "shell.execute_reply.started": "2023-01-30T19:05:18.893207Z"
    },
    "trusted": true
   },
   "outputs": [],
   "source": [
    "X_train, X_test, y_train, y_test = train_test_split(X, y, stratify=y, test_size= 0.3, random_state= 42)"
   ]
  },
  {
   "cell_type": "markdown",
   "metadata": {},
   "source": [
    "# Building basic models [no feature engineering]\n",
    " 1. in this no feature engineering is done apart from removing definate columns click and month.\n",
    " 2. We will run 3 models \n",
    "      a. Logistic regression [for explainability and finding linear relationship]\n",
    "      b. Decision tree classifier [for explainability and also for non-linear relation]\n",
    "      c. Random forest classifier [for accuracy and improving the model] \n",
    " 3. Target variable is highly imbalance, so model will be baised towards majority class. for every base model will try with both balance and imbalance data."
   ]
  },
  {
   "cell_type": "markdown",
   "metadata": {},
   "source": [
    "## defining functions for later use."
   ]
  },
  {
   "cell_type": "code",
   "execution_count": null,
   "metadata": {
    "execution": {
     "iopub.execute_input": "2023-01-30T19:05:19.390869Z",
     "iopub.status.busy": "2023-01-30T19:05:19.389951Z",
     "iopub.status.idle": "2023-01-30T19:05:19.396801Z",
     "shell.execute_reply": "2023-01-30T19:05:19.395454Z",
     "shell.execute_reply.started": "2023-01-30T19:05:19.39083Z"
    },
    "trusted": true
   },
   "outputs": [],
   "source": [
    "# this function helps in evaluation the given model and provide accuracy and confusion matrix. \n",
    "\n",
    "def model_eval(model, X_test, y_test):\n",
    "    y_pred = model.predict(X_test)\n",
    "    accuracy = metrics.accuracy_score(y_test, y_pred)\n",
    "    #print(accuracy)\n",
    "    cnf_matrix = metrics.confusion_matrix(y_test, y_pred)\n",
    "    #print(cnf_matrix)\n",
    "    #metrics.plot_confusion_matrix(model, X_test, y_test)\n",
    "    #plt.show()\n",
    "    return accuracy, cnf_matrix"
   ]
  },
  {
   "cell_type": "code",
   "execution_count": null,
   "metadata": {
    "execution": {
     "iopub.execute_input": "2023-01-30T19:05:19.399492Z",
     "iopub.status.busy": "2023-01-30T19:05:19.398616Z",
     "iopub.status.idle": "2023-01-30T19:05:19.418116Z",
     "shell.execute_reply": "2023-01-30T19:05:19.416924Z",
     "shell.execute_reply.started": "2023-01-30T19:05:19.399452Z"
    },
    "trusted": true
   },
   "outputs": [],
   "source": [
    "# Plots the ROC curve and returns false positive rate, true positive rate, and thresholds. \n",
    "\n",
    "def draw_roc(model, Xtest, actual):\n",
    "    probs = model.predict(X_test)\n",
    "    fpr, tpr, thresholds = metrics.roc_curve( actual, probs,\n",
    "                                              drop_intermediate = False )\n",
    "    auc_score = metrics.roc_auc_score( actual, probs )\n",
    "    plt.figure(figsize=(6, 6))\n",
    "    plt.plot( fpr, tpr, label='ROC curve (area = %0.2f)' % auc_score )\n",
    "    plt.plot([0, 1], [0, 1], 'k--')\n",
    "    plt.xlim([0.0, 1.0])\n",
    "    plt.ylim([0.0, 1.05])\n",
    "    plt.xlabel('False Positive Rate or [1 - True Negative Rate]')\n",
    "    plt.ylabel('True Positive Rate')\n",
    "    plt.title('Receiver operating characteristic example')\n",
    "    plt.legend(loc=\"lower right\")\n",
    "    plt.show()\n",
    "\n",
    "    return fpr, tpr, thresholds"
   ]
  },
  {
   "cell_type": "code",
   "execution_count": null,
   "metadata": {
    "execution": {
     "iopub.execute_input": "2023-01-30T19:05:19.420549Z",
     "iopub.status.busy": "2023-01-30T19:05:19.419473Z",
     "iopub.status.idle": "2023-01-30T19:05:19.437385Z",
     "shell.execute_reply": "2023-01-30T19:05:19.43602Z",
     "shell.execute_reply.started": "2023-01-30T19:05:19.420511Z"
    },
    "trusted": true
   },
   "outputs": [],
   "source": [
    "# Returns the ctossvalidation score for given number of n folds. \n",
    "\n",
    "def cross_val (model, x, y, folds):\n",
    "    crossvalidation = cross_val_score(model, x, y, cv= folds, n_jobs=-1)\n",
    "    return crossvalidation"
   ]
  },
  {
   "cell_type": "code",
   "execution_count": null,
   "metadata": {
    "execution": {
     "iopub.execute_input": "2023-01-30T19:05:19.439875Z",
     "iopub.status.busy": "2023-01-30T19:05:19.438943Z",
     "iopub.status.idle": "2023-01-30T19:05:19.453004Z",
     "shell.execute_reply": "2023-01-30T19:05:19.451816Z",
     "shell.execute_reply.started": "2023-01-30T19:05:19.439837Z"
    },
    "trusted": true
   },
   "outputs": [],
   "source": [
    "# this stores the results in dataframe for evaluating the final result. \n",
    "\n",
    "def store_results(name, ytrain, xtrain, ytest, xtest, model, folds):\n",
    "    \n",
    "    crossvalidation = cross_val(model, xtrain, ytrain, folds)\n",
    "    \n",
    "    accuracy_test, cm1 =  model_eval(model, xtrain, ytrain)\n",
    "    TP = cm1[1,1] # true positive \n",
    "    TN = cm1[0,0] # true negatives\n",
    "    FP = cm1[0,1] # false positives\n",
    "    FN = cm1[1,0] # false negatives\n",
    "    recall_test = TP / (TP+FP)\n",
    "    precision_test = TP / (TP+FN)\n",
    "    \n",
    "    accuracy_train, cm1 =  model_eval(model, xtest, ytest)\n",
    "    TP = cm1[1,1] # true positive \n",
    "    TN = cm1[0,0] # true negatives\n",
    "    FP = cm1[0,1] # false positives\n",
    "    FN = cm1[1,0] # false negatives\n",
    "    recall_train = TP / (TP+FP)\n",
    "    precision_train = TP / (TP+FN)\n",
    "\n",
    "    entry = {'Model': [name],\n",
    "          'Accuracy_train': [accuracy_train],\n",
    "          'recall_train': [recall_train],\n",
    "          'precision_train': [precision_train],\n",
    "          'Accuracy_test': [accuracy_train],\n",
    "          'recall_test': [recall_train],\n",
    "          'precision_test': [precision_train],\n",
    "          'CrossVal_Mean': [crossvalidation.mean()],           \n",
    "          'CrossVal1': [crossvalidation[0]],\n",
    "          'CrossVal2': [crossvalidation[1]],\n",
    "          'CrossVal3': [crossvalidation[2]],\n",
    "          'CrossVal4': [crossvalidation[3]],\n",
    "          'CrossVal5': [crossvalidation[4]],\n",
    "          }\n",
    "    result = pd.DataFrame(entry)\n",
    "    return result"
   ]
  },
  {
   "cell_type": "markdown",
   "metadata": {
    "execution": {
     "iopub.execute_input": "2023-01-25T15:20:18.073372Z",
     "iopub.status.busy": "2023-01-25T15:20:18.072975Z",
     "iopub.status.idle": "2023-01-25T15:20:18.078413Z",
     "shell.execute_reply": "2023-01-25T15:20:18.077385Z",
     "shell.execute_reply.started": "2023-01-25T15:20:18.07334Z"
    }
   },
   "source": [
    "## Dummy classifier for verification\n",
    "Dummy classifier helps in baseling the model performace w.r.t dominanat class. "
   ]
  },
  {
   "cell_type": "code",
   "execution_count": null,
   "metadata": {
    "execution": {
     "iopub.execute_input": "2023-01-30T19:05:19.455174Z",
     "iopub.status.busy": "2023-01-30T19:05:19.454485Z",
     "iopub.status.idle": "2023-01-30T19:05:22.033495Z",
     "shell.execute_reply": "2023-01-30T19:05:22.032145Z",
     "shell.execute_reply.started": "2023-01-30T19:05:19.455137Z"
    },
    "trusted": true
   },
   "outputs": [],
   "source": [
    "outcome = pd.DataFrame()\n",
    "dummy_clf = DummyClassifier(strategy= \"most_frequent\")\n",
    "dummy_clf.fit(X_train, y_train)\n",
    "accuracy, cnf_matrix  = model_eval(dummy_clf, X_train, y_train)\n",
    "print(accuracy)\n",
    "print(cnf_matrix)\n",
    "temp = store_results(\"Dummy classifier\", y_train, X_train, y_test, X_test, dummy_clf, 5)\n",
    "outcome = outcome.append(temp)\n",
    "outcome"
   ]
  },
  {
   "cell_type": "markdown",
   "metadata": {},
   "source": [
    "## Basic regression model with imbalance precidtor "
   ]
  },
  {
   "cell_type": "code",
   "execution_count": null,
   "metadata": {
    "execution": {
     "iopub.execute_input": "2023-01-30T19:05:22.037403Z",
     "iopub.status.busy": "2023-01-30T19:05:22.036005Z",
     "iopub.status.idle": "2023-01-30T19:05:22.080117Z",
     "shell.execute_reply": "2023-01-30T19:05:22.078825Z",
     "shell.execute_reply.started": "2023-01-30T19:05:22.037347Z"
    },
    "trusted": true
   },
   "outputs": [],
   "source": [
    "X_train.head()"
   ]
  },
  {
   "cell_type": "code",
   "execution_count": null,
   "metadata": {
    "execution": {
     "iopub.execute_input": "2023-01-30T19:05:22.083368Z",
     "iopub.status.busy": "2023-01-30T19:05:22.082009Z",
     "iopub.status.idle": "2023-01-30T19:05:22.393748Z",
     "shell.execute_reply": "2023-01-30T19:05:22.392435Z",
     "shell.execute_reply.started": "2023-01-30T19:05:22.083299Z"
    },
    "trusted": true
   },
   "outputs": [],
   "source": [
    "scaler = MinMaxScaler()\n",
    "X_train[X_train.columns] = scaler.fit_transform(X_train[X_train.columns])\n",
    "X_train.head()"
   ]
  },
  {
   "cell_type": "code",
   "execution_count": null,
   "metadata": {
    "execution": {
     "iopub.execute_input": "2023-01-30T19:05:22.395591Z",
     "iopub.status.busy": "2023-01-30T19:05:22.395249Z",
     "iopub.status.idle": "2023-01-30T19:05:29.923483Z",
     "shell.execute_reply": "2023-01-30T19:05:29.921569Z",
     "shell.execute_reply.started": "2023-01-30T19:05:22.395562Z"
    },
    "trusted": true
   },
   "outputs": [],
   "source": [
    "model = LogisticRegression()\n",
    "model.fit(X_train, y_train)"
   ]
  },
  {
   "cell_type": "code",
   "execution_count": null,
   "metadata": {
    "execution": {
     "iopub.execute_input": "2023-01-30T19:05:29.927425Z",
     "iopub.status.busy": "2023-01-30T19:05:29.926157Z",
     "iopub.status.idle": "2023-01-30T19:05:30.100695Z",
     "shell.execute_reply": "2023-01-30T19:05:30.099547Z",
     "shell.execute_reply.started": "2023-01-30T19:05:29.927349Z"
    },
    "trusted": true
   },
   "outputs": [],
   "source": [
    "X_test[X_test.columns] = scaler.transform(X_test[X_test.columns])\n",
    "X_test.head(2)"
   ]
  },
  {
   "cell_type": "code",
   "execution_count": null,
   "metadata": {
    "execution": {
     "iopub.execute_input": "2023-01-30T19:05:30.10248Z",
     "iopub.status.busy": "2023-01-30T19:05:30.102141Z",
     "iopub.status.idle": "2023-01-30T19:05:40.829511Z",
     "shell.execute_reply": "2023-01-30T19:05:40.828082Z",
     "shell.execute_reply.started": "2023-01-30T19:05:30.102449Z"
    },
    "trusted": true
   },
   "outputs": [],
   "source": [
    "y_pred = model.predict(X_test)\n",
    "accuracy, cnf_matrix = model_eval(model, X_test, y_test)\n",
    "print(accuracy)\n",
    "print(cnf_matrix)\n",
    "temp = store_results(\"logistic regres - imbalance predict\", y_train, X_train, y_test, X_test, model, 5)\n",
    "outcome = outcome.append(temp)\n",
    "outcome"
   ]
  },
  {
   "cell_type": "code",
   "execution_count": null,
   "metadata": {
    "execution": {
     "iopub.execute_input": "2023-01-30T19:05:40.831439Z",
     "iopub.status.busy": "2023-01-30T19:05:40.831067Z",
     "iopub.status.idle": "2023-01-30T19:05:41.223153Z",
     "shell.execute_reply": "2023-01-30T19:05:41.221776Z",
     "shell.execute_reply.started": "2023-01-30T19:05:40.831405Z"
    },
    "trusted": true
   },
   "outputs": [],
   "source": [
    "draw_roc(model, X_test, y_test)"
   ]
  },
  {
   "cell_type": "markdown",
   "metadata": {},
   "source": [
    "### Observation\n",
    "1. Logistic regression is behaving almost same as dummy classifier.\n",
    "2. ROC_AUC isn't doing better at all"
   ]
  },
  {
   "cell_type": "markdown",
   "metadata": {
    "execution": {
     "iopub.execute_input": "2023-01-25T15:23:42.007731Z",
     "iopub.status.busy": "2023-01-25T15:23:42.007352Z",
     "iopub.status.idle": "2023-01-25T15:23:42.016878Z",
     "shell.execute_reply": "2023-01-25T15:23:42.015213Z",
     "shell.execute_reply.started": "2023-01-25T15:23:42.0077Z"
    }
   },
   "source": [
    "## Basic regression model with balance precidtor "
   ]
  },
  {
   "cell_type": "code",
   "execution_count": null,
   "metadata": {
    "execution": {
     "iopub.execute_input": "2023-01-30T19:05:41.225098Z",
     "iopub.status.busy": "2023-01-30T19:05:41.224583Z",
     "iopub.status.idle": "2023-01-30T19:05:42.592212Z",
     "shell.execute_reply": "2023-01-30T19:05:42.591054Z",
     "shell.execute_reply.started": "2023-01-30T19:05:41.225057Z"
    },
    "trusted": true
   },
   "outputs": [],
   "source": [
    "# x_new and y_new we will use for balanced data set for all modules\n",
    "randomsample=  RandomOverSampler()\n",
    "x_new, y_new = randomsample.fit_resample(X, y)\n",
    "\n",
    "from collections import Counter\n",
    "print('Original dataset shape  {}'.format(Counter(y)))\n",
    "print('Resampled dataset shape {}'.format(Counter(y_new)))\n",
    "sns.countplot(y_new, palette='husl')\n",
    "plt.show()"
   ]
  },
  {
   "cell_type": "code",
   "execution_count": null,
   "metadata": {
    "execution": {
     "iopub.execute_input": "2023-01-30T19:05:42.594328Z",
     "iopub.status.busy": "2023-01-30T19:05:42.593953Z",
     "iopub.status.idle": "2023-01-30T19:05:42.633276Z",
     "shell.execute_reply": "2023-01-30T19:05:42.632071Z",
     "shell.execute_reply.started": "2023-01-30T19:05:42.594294Z"
    },
    "trusted": true
   },
   "outputs": [],
   "source": [
    "x_new.head(2)"
   ]
  },
  {
   "cell_type": "code",
   "execution_count": null,
   "metadata": {
    "execution": {
     "iopub.execute_input": "2023-01-30T19:05:42.63503Z",
     "iopub.status.busy": "2023-01-30T19:05:42.63464Z",
     "iopub.status.idle": "2023-01-30T19:05:43.551435Z",
     "shell.execute_reply": "2023-01-30T19:05:43.550223Z",
     "shell.execute_reply.started": "2023-01-30T19:05:42.634996Z"
    },
    "trusted": true
   },
   "outputs": [],
   "source": [
    "X_train, X_test, y_train, y_test = train_test_split(x_new, y_new, stratify= y_new, test_size= 0.3, random_state= 42)"
   ]
  },
  {
   "cell_type": "code",
   "execution_count": null,
   "metadata": {
    "execution": {
     "iopub.execute_input": "2023-01-30T19:05:43.553342Z",
     "iopub.status.busy": "2023-01-30T19:05:43.55297Z",
     "iopub.status.idle": "2023-01-30T19:05:44.015259Z",
     "shell.execute_reply": "2023-01-30T19:05:44.014297Z",
     "shell.execute_reply.started": "2023-01-30T19:05:43.553309Z"
    },
    "trusted": true
   },
   "outputs": [],
   "source": [
    "scaler = MinMaxScaler()\n",
    "X_train[X_train.columns] = scaler.fit_transform(X_train[X_train.columns])\n",
    "X_train.head(2)"
   ]
  },
  {
   "cell_type": "code",
   "execution_count": null,
   "metadata": {
    "execution": {
     "iopub.execute_input": "2023-01-30T19:05:44.017297Z",
     "iopub.status.busy": "2023-01-30T19:05:44.016378Z",
     "iopub.status.idle": "2023-01-30T19:05:55.90839Z",
     "shell.execute_reply": "2023-01-30T19:05:55.906767Z",
     "shell.execute_reply.started": "2023-01-30T19:05:44.017259Z"
    },
    "trusted": true
   },
   "outputs": [],
   "source": [
    "model = LogisticRegression()\n",
    "model.fit(X_train, y_train)"
   ]
  },
  {
   "cell_type": "code",
   "execution_count": null,
   "metadata": {
    "execution": {
     "iopub.execute_input": "2023-01-30T19:05:55.922034Z",
     "iopub.status.busy": "2023-01-30T19:05:55.916865Z",
     "iopub.status.idle": "2023-01-30T19:06:13.710771Z",
     "shell.execute_reply": "2023-01-30T19:06:13.709493Z",
     "shell.execute_reply.started": "2023-01-30T19:05:55.921944Z"
    },
    "trusted": true
   },
   "outputs": [],
   "source": [
    "X_test[X_test.columns] = scaler.transform(X_test[X_test.columns])\n",
    "y_pred = model.predict(X_test)\n",
    "accuracy, cnf_matrix = model_eval(model, X_test, y_test)\n",
    "print(accuracy)\n",
    "print(cnf_matrix)\n",
    "temp = store_results(\"logistic regres - balance predict\", y_train, X_train, y_test, X_test, model, 5)\n",
    "draw_roc(model, X_test, y_test)\n",
    "outcome = outcome.append(temp)\n",
    "outcome"
   ]
  },
  {
   "cell_type": "markdown",
   "metadata": {},
   "source": [
    "##  Decision tree classifier with unbalanced data "
   ]
  },
  {
   "cell_type": "code",
   "execution_count": null,
   "metadata": {
    "execution": {
     "iopub.execute_input": "2023-01-30T19:06:13.713695Z",
     "iopub.status.busy": "2023-01-30T19:06:13.712828Z",
     "iopub.status.idle": "2023-01-30T19:06:14.160185Z",
     "shell.execute_reply": "2023-01-30T19:06:14.158948Z",
     "shell.execute_reply.started": "2023-01-30T19:06:13.713649Z"
    },
    "trusted": true
   },
   "outputs": [],
   "source": [
    "# decision tree doesn't require feature scaling, will use the raw features directly \n",
    "X_train, X_test, y_train, y_test = train_test_split(X, y, stratify=y, test_size= 0.3, random_state= 42)\n",
    "X_train.head(2)"
   ]
  },
  {
   "cell_type": "code",
   "execution_count": null,
   "metadata": {
    "execution": {
     "iopub.execute_input": "2023-01-30T19:06:14.162632Z",
     "iopub.status.busy": "2023-01-30T19:06:14.161782Z",
     "iopub.status.idle": "2023-01-30T19:06:32.692294Z",
     "shell.execute_reply": "2023-01-30T19:06:32.691198Z",
     "shell.execute_reply.started": "2023-01-30T19:06:14.162585Z"
    },
    "trusted": true
   },
   "outputs": [],
   "source": [
    "dt_basic = DecisionTreeClassifier(random_state=42)\n",
    "dt_basic.fit(X_train, y_train)\n",
    "y_preds = dt_basic.predict(X_test)\n",
    "accuracy, cnf_matrix = model_eval(dt_basic, X_test, y_test)\n",
    "print(accuracy)\n",
    "print(cnf_matrix)\n",
    "temp = store_results(\"decision tree basic - imbalance predict\", y_train, X_train, y_test, X_test, dt_basic, 5)\n",
    "draw_roc(dt_basic, X_test, y_test)\n",
    "outcome = outcome.append(temp)\n",
    "outcome\n"
   ]
  },
  {
   "cell_type": "markdown",
   "metadata": {},
   "source": [
    "##  Decision tree classifier with balanced data \n"
   ]
  },
  {
   "cell_type": "code",
   "execution_count": null,
   "metadata": {
    "execution": {
     "iopub.execute_input": "2023-01-30T19:06:32.694023Z",
     "iopub.status.busy": "2023-01-30T19:06:32.693682Z",
     "iopub.status.idle": "2023-01-30T19:06:33.455678Z",
     "shell.execute_reply": "2023-01-30T19:06:33.454488Z",
     "shell.execute_reply.started": "2023-01-30T19:06:32.693992Z"
    },
    "trusted": true
   },
   "outputs": [],
   "source": [
    "# x_new and y_new are already calculated before for balanced dataset using the same.\n",
    "\n",
    "X_train, X_test, y_train, y_test = train_test_split(x_new, y_new, stratify= y_new, test_size= 0.3, random_state= 42)\n",
    "X_train.head(2)"
   ]
  },
  {
   "cell_type": "code",
   "execution_count": null,
   "metadata": {
    "execution": {
     "iopub.execute_input": "2023-01-30T19:06:33.457324Z",
     "iopub.status.busy": "2023-01-30T19:06:33.456993Z",
     "iopub.status.idle": "2023-01-30T19:07:05.91371Z",
     "shell.execute_reply": "2023-01-30T19:07:05.912455Z",
     "shell.execute_reply.started": "2023-01-30T19:06:33.457296Z"
    },
    "trusted": true
   },
   "outputs": [],
   "source": [
    "dt_basic = DecisionTreeClassifier(random_state=42)\n",
    "dt_basic.fit(X_train, y_train)\n",
    "y_preds = dt_basic.predict(X_test)\n",
    "accuracy, cnf_matrix = model_eval(dt_basic, X_test, y_test)\n",
    "print(accuracy)\n",
    "print(cnf_matrix)\n",
    "temp = store_results(\"decision tree basic - balance predict\", y_train, X_train, y_test, X_test, dt_basic, 5)\n",
    "draw_roc(dt_basic, X_test, y_test)\n",
    "outcome = outcome.append(temp)\n",
    "outcome"
   ]
  },
  {
   "cell_type": "markdown",
   "metadata": {},
   "source": [
    "### observation \n",
    "1. decision tree on unbalanced data isn't doing that great.\n",
    "1. decision tree on balanced data is really doing very good. \n",
    "2. decision tree on balanced data on test data as well as cross validation is doing really well.\n",
    "4. ROC_AUC curve looks really good."
   ]
  },
  {
   "cell_type": "markdown",
   "metadata": {},
   "source": [
    "## Random forest classifier with imbalanced data \n"
   ]
  },
  {
   "cell_type": "code",
   "execution_count": null,
   "metadata": {
    "execution": {
     "iopub.execute_input": "2023-01-30T19:07:05.916081Z",
     "iopub.status.busy": "2023-01-30T19:07:05.915437Z",
     "iopub.status.idle": "2023-01-30T19:07:06.401903Z",
     "shell.execute_reply": "2023-01-30T19:07:06.400808Z",
     "shell.execute_reply.started": "2023-01-30T19:07:05.916038Z"
    },
    "trusted": true
   },
   "outputs": [],
   "source": [
    "X_train, X_test, y_train, y_test = train_test_split(X, y, stratify=y, test_size= 0.3, random_state= 42)\n",
    "X_train.head(2)"
   ]
  },
  {
   "cell_type": "code",
   "execution_count": null,
   "metadata": {
    "execution": {
     "iopub.execute_input": "2023-01-30T19:07:06.403563Z",
     "iopub.status.busy": "2023-01-30T19:07:06.403234Z",
     "iopub.status.idle": "2023-01-30T19:12:34.327902Z",
     "shell.execute_reply": "2023-01-30T19:12:34.326685Z",
     "shell.execute_reply.started": "2023-01-30T19:07:06.403533Z"
    },
    "trusted": true
   },
   "outputs": [],
   "source": [
    "model_rf = RandomForestClassifier(random_state=42)\n",
    "model_rf.fit(X_train, y_train)\n",
    "y_preds = model_rf.predict(X_test)\n",
    "accuracy, cnf_matrix = model_eval(model_rf, X_test, y_test)\n",
    "print(accuracy)\n",
    "print(cnf_matrix)\n",
    "temp = store_results(\"Random forest basic - imbalance predict\", y_train, X_train, y_test, X_test, model_rf, 5)\n",
    "draw_roc(model_rf, X_test, y_test)\n",
    "outcome = outcome.append(temp)\n",
    "outcome\n"
   ]
  },
  {
   "cell_type": "markdown",
   "metadata": {},
   "source": [
    "## Random forest classifier with balanced data \n"
   ]
  },
  {
   "cell_type": "code",
   "execution_count": null,
   "metadata": {
    "execution": {
     "iopub.execute_input": "2023-01-30T19:12:34.330384Z",
     "iopub.status.busy": "2023-01-30T19:12:34.329371Z",
     "iopub.status.idle": "2023-01-30T19:12:35.065143Z",
     "shell.execute_reply": "2023-01-30T19:12:35.064139Z",
     "shell.execute_reply.started": "2023-01-30T19:12:34.330348Z"
    },
    "trusted": true
   },
   "outputs": [],
   "source": [
    "X_train, X_test, y_train, y_test = train_test_split(x_new, y_new, stratify= y_new, test_size= 0.3, random_state= 42)\n",
    "X_train.head(2)"
   ]
  },
  {
   "cell_type": "code",
   "execution_count": null,
   "metadata": {
    "execution": {
     "iopub.execute_input": "2023-01-30T19:12:35.067526Z",
     "iopub.status.busy": "2023-01-30T19:12:35.066923Z",
     "iopub.status.idle": "2023-01-30T19:23:45.225314Z",
     "shell.execute_reply": "2023-01-30T19:23:45.223913Z",
     "shell.execute_reply.started": "2023-01-30T19:12:35.067494Z"
    },
    "trusted": true
   },
   "outputs": [],
   "source": [
    "model_rf = RandomForestClassifier(random_state=42)\n",
    "model_rf.fit(X_train, y_train)\n",
    "y_preds = model_rf.predict(X_test)\n",
    "accuracy, cnf_matrix = model_eval(model_rf, X_test, y_test)\n",
    "print(accuracy)\n",
    "print(cnf_matrix)\n",
    "temp = store_results(\"Random forest basic - balance predict\", y_train, X_train, y_test, X_test, model_rf, 5)\n",
    "draw_roc(model_rf, X_test, y_test)\n",
    "outcome = outcome.append(temp)\n",
    "outcome"
   ]
  },
  {
   "cell_type": "markdown",
   "metadata": {},
   "source": [
    "### observarion :\n",
    " 1. Random forest data with imbalance data is over fitted for training data.\n",
    " 1. Random forest with balanced data set is performing the best so far on both train and test data.\n",
    " 2. Random forest with balanced data holding good for cross validation as well.\n",
    " Conclusion based on simple models built  :- Random forest on balanced data set is the best model built\n"
   ]
  },
  {
   "cell_type": "markdown",
   "metadata": {},
   "source": [
    "# Building basic models [with feature engineering]\n",
    " in this will follow on building same models as before.\n",
    " 1. Logistic regression.\n",
    " 2. Decision tree classifier.\n",
    " 3. Random forest Classifier.\n",
    " One Important observation : While building, we observed that building with balanced predictor is a better apporach. hence all the 3 models in feature engineering case will be built using balanced data set only. "
   ]
  },
  {
   "cell_type": "code",
   "execution_count": null,
   "metadata": {
    "execution": {
     "iopub.execute_input": "2023-01-30T19:23:45.227715Z",
     "iopub.status.busy": "2023-01-30T19:23:45.227254Z",
     "iopub.status.idle": "2023-01-30T19:23:45.43045Z",
     "shell.execute_reply": "2023-01-30T19:23:45.429571Z",
     "shell.execute_reply.started": "2023-01-30T19:23:45.227665Z"
    },
    "trusted": true
   },
   "outputs": [],
   "source": [
    "data_feature = sampled_data.copy()"
   ]
  },
  {
   "cell_type": "code",
   "execution_count": null,
   "metadata": {
    "execution": {
     "iopub.execute_input": "2023-01-30T19:23:45.432772Z",
     "iopub.status.busy": "2023-01-30T19:23:45.432051Z",
     "iopub.status.idle": "2023-01-30T19:23:47.281842Z",
     "shell.execute_reply": "2023-01-30T19:23:47.280909Z",
     "shell.execute_reply.started": "2023-01-30T19:23:45.432708Z"
    },
    "trusted": true
   },
   "outputs": [],
   "source": [
    "corr = data_feature.corr()\n",
    "f, ax = plt.subplots(figsize=(12,12))\n",
    "sns.heatmap(corr, ax=ax, annot=True, linewidths=5,cmap='YlGn')\n",
    "plt.title(\"Pearson correlation of Features\", y=1.05, size=15)\n"
   ]
  },
  {
   "cell_type": "code",
   "execution_count": null,
   "metadata": {
    "execution": {
     "iopub.execute_input": "2023-01-30T19:23:47.28391Z",
     "iopub.status.busy": "2023-01-30T19:23:47.28354Z",
     "iopub.status.idle": "2023-01-30T19:23:47.423271Z",
     "shell.execute_reply": "2023-01-30T19:23:47.422153Z",
     "shell.execute_reply.started": "2023-01-30T19:23:47.283877Z"
    },
    "trusted": true
   },
   "outputs": [],
   "source": [
    "# C1 and device_type are highly corelated, since C1 is anomalised column we can drop it.\n",
    "# C14 and C17 are highly co-related, dropping either is a good idea.\n",
    "\n",
    "data_feature.drop(['C14', 'C1'], axis=1, inplace= True)"
   ]
  },
  {
   "cell_type": "code",
   "execution_count": null,
   "metadata": {
    "execution": {
     "iopub.execute_input": "2023-01-30T19:23:47.424877Z",
     "iopub.status.busy": "2023-01-30T19:23:47.424534Z",
     "iopub.status.idle": "2023-01-30T19:23:47.522242Z",
     "shell.execute_reply": "2023-01-30T19:23:47.521198Z",
     "shell.execute_reply.started": "2023-01-30T19:23:47.424846Z"
    },
    "trusted": true
   },
   "outputs": [],
   "source": [
    "X = data_feature.drop(['y'], axis=1)\n",
    "y = data_feature['y']"
   ]
  },
  {
   "cell_type": "code",
   "execution_count": null,
   "metadata": {
    "execution": {
     "iopub.execute_input": "2023-01-30T19:23:47.52422Z",
     "iopub.status.busy": "2023-01-30T19:23:47.523764Z",
     "iopub.status.idle": "2023-01-30T19:24:00.354097Z",
     "shell.execute_reply": "2023-01-30T19:24:00.352882Z",
     "shell.execute_reply.started": "2023-01-30T19:23:47.524166Z"
    },
    "trusted": true
   },
   "outputs": [],
   "source": [
    "target_encoder = ce.TargetEncoder()\n",
    "X = target_encoder.fit_transform(X, y)\n",
    "X.head(2)"
   ]
  },
  {
   "cell_type": "code",
   "execution_count": null,
   "metadata": {
    "execution": {
     "iopub.execute_input": "2023-01-30T19:24:00.356289Z",
     "iopub.status.busy": "2023-01-30T19:24:00.355454Z",
     "iopub.status.idle": "2023-01-30T19:24:01.600407Z",
     "shell.execute_reply": "2023-01-30T19:24:01.599105Z",
     "shell.execute_reply.started": "2023-01-30T19:24:00.356241Z"
    },
    "trusted": true
   },
   "outputs": [],
   "source": [
    "# As discussed at the start, we will use balanced data for all the \n",
    "# x_new and y_new we will use for balanced data set for all modules\n",
    "randomsample=  RandomOverSampler()\n",
    "x_new, y_new = randomsample.fit_resample(X, y)\n",
    "\n",
    "from collections import Counter\n",
    "print('Original dataset shape  {}'.format(Counter(y)))\n",
    "print('Resampled dataset shape {}'.format(Counter(y_new)))\n",
    "sns.countplot(y_new, palette='husl')\n",
    "plt.show()"
   ]
  },
  {
   "cell_type": "code",
   "execution_count": null,
   "metadata": {
    "execution": {
     "iopub.execute_input": "2023-01-30T19:24:01.602817Z",
     "iopub.status.busy": "2023-01-30T19:24:01.60231Z",
     "iopub.status.idle": "2023-01-30T19:24:02.435836Z",
     "shell.execute_reply": "2023-01-30T19:24:02.434791Z",
     "shell.execute_reply.started": "2023-01-30T19:24:01.60277Z"
    },
    "trusted": true
   },
   "outputs": [],
   "source": [
    "X_train, X_test, y_train, y_test = train_test_split(x_new, y_new, stratify= y_new, test_size= 0.3, random_state= 42)"
   ]
  },
  {
   "cell_type": "markdown",
   "metadata": {},
   "source": [
    "## Logistic regression model with feature engineering and balance precidtor."
   ]
  },
  {
   "cell_type": "code",
   "execution_count": null,
   "metadata": {
    "execution": {
     "iopub.execute_input": "2023-01-30T19:24:02.438629Z",
     "iopub.status.busy": "2023-01-30T19:24:02.437724Z",
     "iopub.status.idle": "2023-01-30T19:24:02.824655Z",
     "shell.execute_reply": "2023-01-30T19:24:02.823377Z",
     "shell.execute_reply.started": "2023-01-30T19:24:02.438581Z"
    },
    "trusted": true
   },
   "outputs": [],
   "source": [
    "scaler = MinMaxScaler()\n",
    "X_train[X_train.columns] = scaler.fit_transform(X_train[X_train.columns])\n",
    "X_train.head()"
   ]
  },
  {
   "cell_type": "code",
   "execution_count": null,
   "metadata": {
    "execution": {
     "iopub.execute_input": "2023-01-30T19:24:02.826445Z",
     "iopub.status.busy": "2023-01-30T19:24:02.826085Z",
     "iopub.status.idle": "2023-01-30T19:24:08.524445Z",
     "shell.execute_reply": "2023-01-30T19:24:08.523371Z",
     "shell.execute_reply.started": "2023-01-30T19:24:02.826411Z"
    },
    "trusted": true
   },
   "outputs": [],
   "source": [
    "X_train_sm = sm.add_constant(X_train)\n",
    "logm2 = sm.GLM(y_train, X_train_sm, family = sm.families.Binomial())\n",
    "res = logm2.fit()\n",
    "res.summary()"
   ]
  },
  {
   "cell_type": "code",
   "execution_count": null,
   "metadata": {
    "execution": {
     "iopub.execute_input": "2023-01-30T19:24:08.526083Z",
     "iopub.status.busy": "2023-01-30T19:24:08.52575Z",
     "iopub.status.idle": "2023-01-30T19:24:09.145656Z",
     "shell.execute_reply": "2023-01-30T19:24:09.14442Z",
     "shell.execute_reply.started": "2023-01-30T19:24:08.526053Z"
    },
    "trusted": true
   },
   "outputs": [],
   "source": [
    "y_train_pred = res.predict(X_train_sm)\n",
    "y_train_pred_final = pd.DataFrame({'y':y_train, 'y_Prob':y_train_pred})\n",
    "y_train_pred_final['predicted'] = y_train_pred_final.y_Prob.map(lambda x: 1 if x > 0.5 else 0)\n",
    "confusion = metrics.confusion_matrix(y_train_pred_final.y, y_train_pred_final.predicted )\n",
    "print(confusion)\n",
    "print(metrics.accuracy_score(y_train_pred_final.y, y_train_pred_final.predicted))"
   ]
  },
  {
   "cell_type": "code",
   "execution_count": null,
   "metadata": {
    "execution": {
     "iopub.execute_input": "2023-01-30T19:24:09.148908Z",
     "iopub.status.busy": "2023-01-30T19:24:09.148342Z",
     "iopub.status.idle": "2023-01-30T19:24:09.158344Z",
     "shell.execute_reply": "2023-01-30T19:24:09.156616Z",
     "shell.execute_reply.started": "2023-01-30T19:24:09.148861Z"
    },
    "trusted": true
   },
   "outputs": [],
   "source": [
    "def sm_model_evaluation (model, x_test, y_test):\n",
    "    '''\n",
    "    model = sm model\n",
    "    y_test = series of labels \n",
    "    columns = list of columns in features\n",
    "    x_test = test dataframe \n",
    "    '''\n",
    "    X_sm = sm.add_constant(x_test)\n",
    "    y_pred = res.predict(X_sm)\n",
    "    y_train_pred_final = pd.DataFrame({'y':y_test, 'y_Prob':y_pred})\n",
    "    y_train_pred_final['predicted'] = y_train_pred_final.y_Prob.map(lambda x: 1 if x > 0.5 else 0)\n",
    "    # Let's check the overall accuracy.\n",
    "    print(metrics.accuracy_score(y_train_pred_final.y, y_train_pred_final.predicted))\n",
    "    confusion = metrics.confusion_matrix(y_train_pred_final.y, y_train_pred_final.predicted )\n",
    "    print(confusion)"
   ]
  },
  {
   "cell_type": "code",
   "execution_count": null,
   "metadata": {
    "execution": {
     "iopub.execute_input": "2023-01-30T19:24:09.160818Z",
     "iopub.status.busy": "2023-01-30T19:24:09.160016Z",
     "iopub.status.idle": "2023-01-30T19:24:09.634212Z",
     "shell.execute_reply": "2023-01-30T19:24:09.633142Z",
     "shell.execute_reply.started": "2023-01-30T19:24:09.160776Z"
    },
    "trusted": true
   },
   "outputs": [],
   "source": [
    "X_test[X_test.columns] = scaler.transform(X_test[X_test.columns])\n",
    "sm_model_evaluation(res, X_test, y_test)  "
   ]
  },
  {
   "cell_type": "code",
   "execution_count": null,
   "metadata": {
    "execution": {
     "iopub.execute_input": "2023-01-30T19:24:09.636216Z",
     "iopub.status.busy": "2023-01-30T19:24:09.635767Z",
     "iopub.status.idle": "2023-01-30T19:24:31.406895Z",
     "shell.execute_reply": "2023-01-30T19:24:31.405154Z",
     "shell.execute_reply.started": "2023-01-30T19:24:09.636172Z"
    },
    "trusted": true
   },
   "outputs": [],
   "source": [
    "vif = pd.DataFrame()\n",
    "vif['Features'] = X_train_sm.columns\n",
    "vif['VIF'] = [variance_inflation_factor(X_train_sm.values, i) for i in range(X_train_sm.shape[1])]\n",
    "vif['VIF'] = round(vif['VIF'], 2)\n",
    "vif = vif.sort_values(by = \"VIF\", ascending = False)\n",
    "vif"
   ]
  },
  {
   "cell_type": "code",
   "execution_count": null,
   "metadata": {
    "execution": {
     "iopub.execute_input": "2023-01-30T19:24:31.419241Z",
     "iopub.status.busy": "2023-01-30T19:24:31.414391Z",
     "iopub.status.idle": "2023-01-30T19:24:36.467936Z",
     "shell.execute_reply": "2023-01-30T19:24:36.46702Z",
     "shell.execute_reply.started": "2023-01-30T19:24:31.419156Z"
    },
    "trusted": true
   },
   "outputs": [],
   "source": [
    "# VIF looks good, w.r.t P values hour and dayofweek have got highest, will remove and build the model.\n",
    "\n",
    "X_train_sm.drop(['hour','day'], axis=1, inplace= True)\n",
    "logm2 = sm.GLM(y_train, X_train_sm, family = sm.families.Binomial())\n",
    "res = logm2.fit()\n",
    "res.summary()"
   ]
  },
  {
   "cell_type": "code",
   "execution_count": null,
   "metadata": {
    "execution": {
     "iopub.execute_input": "2023-01-30T19:24:36.469451Z",
     "iopub.status.busy": "2023-01-30T19:24:36.469149Z",
     "iopub.status.idle": "2023-01-30T19:24:54.30427Z",
     "shell.execute_reply": "2023-01-30T19:24:54.302707Z",
     "shell.execute_reply.started": "2023-01-30T19:24:36.469424Z"
    },
    "trusted": true
   },
   "outputs": [],
   "source": [
    "vif = pd.DataFrame()\n",
    "vif['Features'] = X_train_sm.columns\n",
    "vif['VIF'] = [variance_inflation_factor(X_train_sm.values, i) for i in range(X_train_sm.shape[1])]\n",
    "vif['VIF'] = round(vif['VIF'], 2)\n",
    "vif = vif.sort_values(by = \"VIF\", ascending = False)\n",
    "vif"
   ]
  },
  {
   "cell_type": "code",
   "execution_count": null,
   "metadata": {
    "execution": {
     "iopub.execute_input": "2023-01-30T19:24:54.307696Z",
     "iopub.status.busy": "2023-01-30T19:24:54.306748Z",
     "iopub.status.idle": "2023-01-30T19:24:58.77634Z",
     "shell.execute_reply": "2023-01-30T19:24:58.775244Z",
     "shell.execute_reply.started": "2023-01-30T19:24:54.307618Z"
    },
    "trusted": true
   },
   "outputs": [],
   "source": [
    "X_train_sm.drop(['dayofweek','device_ip', 'C15'], axis=1, inplace= True)\n",
    "logm2 = sm.GLM(y_train, X_train_sm, family = sm.families.Binomial())\n",
    "res = logm2.fit()\n",
    "res.summary()"
   ]
  },
  {
   "cell_type": "code",
   "execution_count": null,
   "metadata": {
    "execution": {
     "iopub.execute_input": "2023-01-30T19:24:58.778663Z",
     "iopub.status.busy": "2023-01-30T19:24:58.77796Z",
     "iopub.status.idle": "2023-01-30T19:25:12.102982Z",
     "shell.execute_reply": "2023-01-30T19:25:12.100464Z",
     "shell.execute_reply.started": "2023-01-30T19:24:58.778618Z"
    },
    "trusted": true
   },
   "outputs": [],
   "source": [
    "vif = pd.DataFrame()\n",
    "vif['Features'] = X_train_sm.columns\n",
    "vif['VIF'] = [variance_inflation_factor(X_train_sm.values, i) for i in range(X_train_sm.shape[1])]\n",
    "vif['VIF'] = round(vif['VIF'], 2)\n",
    "vif = vif.sort_values(by = \"VIF\", ascending = False)\n",
    "vif"
   ]
  },
  {
   "cell_type": "markdown",
   "metadata": {},
   "source": [
    "### Model P values and VIF looks good, will find the best threshold for classification."
   ]
  },
  {
   "cell_type": "code",
   "execution_count": null,
   "metadata": {
    "execution": {
     "iopub.execute_input": "2023-01-30T19:25:12.114934Z",
     "iopub.status.busy": "2023-01-30T19:25:12.112749Z",
     "iopub.status.idle": "2023-01-30T19:25:12.800674Z",
     "shell.execute_reply": "2023-01-30T19:25:12.799159Z",
     "shell.execute_reply.started": "2023-01-30T19:25:12.114847Z"
    },
    "trusted": true
   },
   "outputs": [],
   "source": [
    "y_train_pred = res.predict(X_train_sm)\n",
    "y_train_pred_final = pd.DataFrame({'y':y_train, 'y_Prob':y_train_pred})\n",
    "y_train_pred_final['predicted'] = y_train_pred_final.y_Prob.map(lambda x: 1 if x > 0.5 else 0)\n",
    "confusion = metrics.confusion_matrix(y_train_pred_final.y, y_train_pred_final.predicted )\n",
    "print(confusion)\n",
    "print(metrics.accuracy_score(y_train_pred_final.y, y_train_pred_final.predicted))"
   ]
  },
  {
   "cell_type": "code",
   "execution_count": null,
   "metadata": {
    "execution": {
     "iopub.execute_input": "2023-01-30T19:25:12.802554Z",
     "iopub.status.busy": "2023-01-30T19:25:12.802195Z",
     "iopub.status.idle": "2023-01-30T19:25:13.199435Z",
     "shell.execute_reply": "2023-01-30T19:25:13.198017Z",
     "shell.execute_reply.started": "2023-01-30T19:25:12.802523Z"
    },
    "trusted": true
   },
   "outputs": [],
   "source": [
    "col = list(X_train_sm.columns)\n",
    "col.remove('const')\n",
    "sm_model_evaluation(res, X_test[col], y_test)  "
   ]
  },
  {
   "cell_type": "code",
   "execution_count": null,
   "metadata": {
    "execution": {
     "iopub.execute_input": "2023-01-30T19:25:13.201529Z",
     "iopub.status.busy": "2023-01-30T19:25:13.201158Z",
     "iopub.status.idle": "2023-01-30T19:25:20.385517Z",
     "shell.execute_reply": "2023-01-30T19:25:20.384235Z",
     "shell.execute_reply.started": "2023-01-30T19:25:13.201496Z"
    },
    "trusted": true
   },
   "outputs": [],
   "source": [
    "numbers = [float(x)/20 for x in range(20)]\n",
    "print(numbers)\n",
    "for i in numbers:\n",
    "    y_train_pred_final[i]= y_train_pred_final.y_Prob.map(lambda x: 1 if x > i else 0)\n",
    "y_train_pred_final.head()"
   ]
  },
  {
   "cell_type": "code",
   "execution_count": null,
   "metadata": {
    "execution": {
     "iopub.execute_input": "2023-01-30T19:25:20.387479Z",
     "iopub.status.busy": "2023-01-30T19:25:20.386979Z",
     "iopub.status.idle": "2023-01-30T19:25:22.966217Z",
     "shell.execute_reply": "2023-01-30T19:25:22.964864Z",
     "shell.execute_reply.started": "2023-01-30T19:25:20.387436Z"
    },
    "trusted": true
   },
   "outputs": [],
   "source": [
    "cutoff_df = pd.DataFrame( columns = ['Thresold_prob','accuracy','recall','precision'])\n",
    "from sklearn.metrics import confusion_matrix\n",
    "\n",
    "num = [0.0,0.05,0.1,0.15,0.2,0.25,0.3,0.35,0.4,0.45,0.5,0.55,0.6,0.65,0.7,0.75,0.8,0.85,0.9,0.95]\n",
    "for i in num:\n",
    "    cm1 = metrics.confusion_matrix(y_train_pred_final.y, y_train_pred_final[i] )\n",
    "    total1=sum(sum(cm1))\n",
    "    TP = cm1[1,1] # true positive \n",
    "    TN = cm1[0,0] # true negatives\n",
    "    FP = cm1[0,1] # false positives\n",
    "    FN = cm1[1,0] # false negatives\n",
    "    accuracy = (TP + TN)/total1\n",
    "    \n",
    "    recall = TP / (TP+FP)\n",
    "    precision = TP / (TP+FN)\n",
    "    cutoff_df.loc[i] =[ i ,accuracy,recall,precision]\n",
    "cutoff_df"
   ]
  },
  {
   "cell_type": "code",
   "execution_count": null,
   "metadata": {
    "execution": {
     "iopub.execute_input": "2023-01-30T19:25:22.967755Z",
     "iopub.status.busy": "2023-01-30T19:25:22.967409Z",
     "iopub.status.idle": "2023-01-30T19:25:23.255483Z",
     "shell.execute_reply": "2023-01-30T19:25:23.254649Z",
     "shell.execute_reply.started": "2023-01-30T19:25:22.967712Z"
    },
    "trusted": true
   },
   "outputs": [],
   "source": [
    "cutoff_df.plot.line(x='Thresold_prob', y=['accuracy','recall','precision'])\n",
    "plt.show()"
   ]
  },
  {
   "cell_type": "code",
   "execution_count": null,
   "metadata": {
    "execution": {
     "iopub.execute_input": "2023-01-30T19:25:23.257425Z",
     "iopub.status.busy": "2023-01-30T19:25:23.256572Z",
     "iopub.status.idle": "2023-01-30T19:25:23.629679Z",
     "shell.execute_reply": "2023-01-30T19:25:23.628501Z",
     "shell.execute_reply.started": "2023-01-30T19:25:23.257389Z"
    },
    "trusted": true
   },
   "outputs": [],
   "source": [
    "y_train_pred_final['final_predicted'] = y_train_pred_final.y_Prob.map( lambda x: 1 if x > 0.50 else 0)\n",
    "y_train_pred_final.head()"
   ]
  },
  {
   "cell_type": "code",
   "execution_count": null,
   "metadata": {
    "execution": {
     "iopub.execute_input": "2023-01-30T19:25:23.632137Z",
     "iopub.status.busy": "2023-01-30T19:25:23.631626Z",
     "iopub.status.idle": "2023-01-30T19:25:23.661861Z",
     "shell.execute_reply": "2023-01-30T19:25:23.660456Z",
     "shell.execute_reply.started": "2023-01-30T19:25:23.632094Z"
    },
    "trusted": true
   },
   "outputs": [],
   "source": [
    "X_train_sm.drop('const', axis= 1, inplace= True)\n",
    "X_test = X_test[X_train_sm.columns]\n",
    "print(X_train_sm.shape)\n",
    "print(X_test.shape)"
   ]
  },
  {
   "cell_type": "code",
   "execution_count": null,
   "metadata": {
    "execution": {
     "iopub.execute_input": "2023-01-30T19:25:23.677004Z",
     "iopub.status.busy": "2023-01-30T19:25:23.676565Z",
     "iopub.status.idle": "2023-01-30T19:25:45.378945Z",
     "shell.execute_reply": "2023-01-30T19:25:45.377685Z",
     "shell.execute_reply.started": "2023-01-30T19:25:23.676966Z"
    },
    "trusted": true
   },
   "outputs": [],
   "source": [
    "model = LogisticRegression()\n",
    "model.fit(X_train_sm, y_train)\n",
    "accuracy, cnf_matrix = model_eval(model, X_test[X_train_sm.columns], y_test)\n",
    "temp = store_results(\"logistic reg with feature engine\", y_train, X_train_sm, y_test, X_test[X_train_sm.columns], \\\n",
    "                     model, 5)\n",
    "draw_roc(model, X_test[X_train_sm.columns], y_test)\n",
    "outcome = outcome.append(temp)\n",
    "outcome\n"
   ]
  },
  {
   "cell_type": "markdown",
   "metadata": {},
   "source": [
    "## Decision tree model with feature engineering and balance precidtor.\n"
   ]
  },
  {
   "cell_type": "code",
   "execution_count": null,
   "metadata": {
    "execution": {
     "iopub.execute_input": "2023-01-30T19:25:45.382371Z",
     "iopub.status.busy": "2023-01-30T19:25:45.381032Z",
     "iopub.status.idle": "2023-01-30T19:25:46.224912Z",
     "shell.execute_reply": "2023-01-30T19:25:46.223793Z",
     "shell.execute_reply.started": "2023-01-30T19:25:45.382316Z"
    },
    "trusted": true
   },
   "outputs": [],
   "source": [
    "X_train, X_test, y_train, y_test = train_test_split(x_new, y_new, stratify= y_new, test_size= 0.3, random_state= 42)\n",
    "X_train.head(2)"
   ]
  },
  {
   "cell_type": "code",
   "execution_count": null,
   "metadata": {
    "execution": {
     "iopub.execute_input": "2023-01-30T19:25:46.226722Z",
     "iopub.status.busy": "2023-01-30T19:25:46.226385Z",
     "iopub.status.idle": "2023-01-30T19:25:56.816922Z",
     "shell.execute_reply": "2023-01-30T19:25:56.815647Z",
     "shell.execute_reply.started": "2023-01-30T19:25:46.22669Z"
    },
    "trusted": true
   },
   "outputs": [],
   "source": [
    "dt_tree = DecisionTreeClassifier(random_state=42)\n",
    "dt_tree.fit(X_train, y_train)\n",
    "feature_importances = dt_tree.feature_importances_\n",
    "features = X_train.columns\n",
    "df = pd.DataFrame({'features': features, 'importance': feature_importances})\n",
    "df.sort_values(by='importance', ascending = False)"
   ]
  },
  {
   "cell_type": "code",
   "execution_count": null,
   "metadata": {
    "execution": {
     "iopub.execute_input": "2023-01-30T19:25:56.819178Z",
     "iopub.status.busy": "2023-01-30T19:25:56.818385Z",
     "iopub.status.idle": "2023-01-30T19:25:56.82647Z",
     "shell.execute_reply": "2023-01-30T19:25:56.825234Z",
     "shell.execute_reply.started": "2023-01-30T19:25:56.819141Z"
    },
    "trusted": true
   },
   "outputs": [],
   "source": [
    "df = df[df.importance > 0.02]\n",
    "rf_cols = []\n",
    "for col in list(X_train.columns):\n",
    "    if col in list(df.features):\n",
    "        rf_cols.append(col)"
   ]
  },
  {
   "cell_type": "code",
   "execution_count": null,
   "metadata": {
    "execution": {
     "iopub.execute_input": "2023-01-30T19:25:56.8293Z",
     "iopub.status.busy": "2023-01-30T19:25:56.828093Z",
     "iopub.status.idle": "2023-01-30T19:26:03.856884Z",
     "shell.execute_reply": "2023-01-30T19:26:03.855643Z",
     "shell.execute_reply.started": "2023-01-30T19:25:56.829253Z"
    },
    "trusted": true
   },
   "outputs": [],
   "source": [
    "dt_tree = DecisionTreeClassifier(random_state=42)\n",
    "dt_tree.fit(X_train[rf_cols], y_train)"
   ]
  },
  {
   "cell_type": "code",
   "execution_count": null,
   "metadata": {
    "execution": {
     "iopub.execute_input": "2023-01-30T19:26:03.858542Z",
     "iopub.status.busy": "2023-01-30T19:26:03.858197Z",
     "iopub.status.idle": "2023-01-30T19:26:05.476014Z",
     "shell.execute_reply": "2023-01-30T19:26:05.474822Z",
     "shell.execute_reply.started": "2023-01-30T19:26:03.858511Z"
    },
    "trusted": true
   },
   "outputs": [],
   "source": [
    "print(rf_cols)\n",
    "X_train = X_train[rf_cols]\n",
    "X_test = X_test[rf_cols]\n",
    "print(len(rf_cols))\n",
    "predict_rf = dt_tree.predict(X_train)\n",
    "predict_rf_test = dt_tree.predict(X_test)\n",
    "\n",
    "accuracy, cnf_matrix = model_eval(dt_tree, X_train, y_train)\n",
    "print(\"Train results\")\n",
    "print(\"accuracy\",accuracy)\n",
    "print(\"cnf_matrix \\n\",cnf_matrix)\n",
    "\n",
    "accuracy, cnf_matrix = model_eval(dt_tree, X_test, y_test)\n",
    "print(\"Test results\")\n",
    "print(\"accuracy\",accuracy)\n",
    "print(\"cnf_matrix \\n\",cnf_matrix)\n",
    "\n",
    "draw_roc(dt_tree, X_test, y_test)\n"
   ]
  },
  {
   "cell_type": "markdown",
   "metadata": {},
   "source": [
    " Above basic tree with right features seems data is overfitting. having the correct hyper parameter tuning help in interpretation and bit of over fitting of the model."
   ]
  },
  {
   "cell_type": "code",
   "execution_count": null,
   "metadata": {
    "execution": {
     "iopub.execute_input": "2023-01-30T19:26:05.477856Z",
     "iopub.status.busy": "2023-01-30T19:26:05.477512Z",
     "iopub.status.idle": "2023-01-30T19:50:47.788223Z",
     "shell.execute_reply": "2023-01-30T19:50:47.786419Z",
     "shell.execute_reply.started": "2023-01-30T19:26:05.477826Z"
    },
    "trusted": true
   },
   "outputs": [],
   "source": [
    "param_grid = {\n",
    "    'max_depth': range(1,15),\n",
    "    'min_samples_leaf': range(10,200,20),\n",
    "    'min_samples_split': range(50, 150, 50)\n",
    "    \n",
    "}\n",
    "n_folds = 5\n",
    "dtree = DecisionTreeClassifier(random_state= 42)\n",
    "tree3 = GridSearchCV(dtree, param_grid, cv=n_folds, n_jobs =-1,return_train_score=True)\n",
    "tree3.fit(X_train, y_train)"
   ]
  },
  {
   "cell_type": "code",
   "execution_count": null,
   "metadata": {
    "execution": {
     "iopub.execute_input": "2023-01-30T19:50:47.792008Z",
     "iopub.status.busy": "2023-01-30T19:50:47.790572Z",
     "iopub.status.idle": "2023-01-30T19:50:47.801611Z",
     "shell.execute_reply": "2023-01-30T19:50:47.800792Z",
     "shell.execute_reply.started": "2023-01-30T19:50:47.791961Z"
    },
    "trusted": true
   },
   "outputs": [],
   "source": [
    "tree3.best_params_"
   ]
  },
  {
   "cell_type": "code",
   "execution_count": null,
   "metadata": {
    "execution": {
     "iopub.execute_input": "2023-01-30T19:50:47.804291Z",
     "iopub.status.busy": "2023-01-30T19:50:47.803368Z",
     "iopub.status.idle": "2023-01-30T19:50:47.821145Z",
     "shell.execute_reply": "2023-01-30T19:50:47.819685Z",
     "shell.execute_reply.started": "2023-01-30T19:50:47.804245Z"
    },
    "trusted": true
   },
   "outputs": [],
   "source": [
    "tree3.best_estimator_"
   ]
  },
  {
   "cell_type": "code",
   "execution_count": null,
   "metadata": {
    "execution": {
     "iopub.execute_input": "2023-01-30T19:50:47.824799Z",
     "iopub.status.busy": "2023-01-30T19:50:47.82336Z",
     "iopub.status.idle": "2023-01-30T19:51:03.008746Z",
     "shell.execute_reply": "2023-01-30T19:51:03.006165Z",
     "shell.execute_reply.started": "2023-01-30T19:50:47.824715Z"
    },
    "trusted": true
   },
   "outputs": [],
   "source": [
    "dt_tree =  DecisionTreeClassifier(max_depth=14, min_samples_leaf=10, min_samples_split=50,\n",
    "                       random_state=42)\n",
    "dt_tree.fit(X_train, y_train)\n",
    "accuracy, cnf_matrix = model_eval(dt_tree, X_test, y_test)\n",
    "temp = store_results(\"Decision tree with feature engine\", y_train, X_train, y_test, X_test, \\\n",
    "                     dt_tree, 5)\n",
    "draw_roc(dt_tree, X_test, y_test)\n",
    "outcome = outcome.append(temp)\n",
    "outcome"
   ]
  },
  {
   "cell_type": "markdown",
   "metadata": {},
   "source": [
    "## Random forest model with feature engineering and balance precidtor."
   ]
  },
  {
   "cell_type": "code",
   "execution_count": null,
   "metadata": {
    "execution": {
     "iopub.execute_input": "2023-01-30T19:51:03.011376Z",
     "iopub.status.busy": "2023-01-30T19:51:03.010498Z",
     "iopub.status.idle": "2023-01-30T19:51:03.776847Z",
     "shell.execute_reply": "2023-01-30T19:51:03.775997Z",
     "shell.execute_reply.started": "2023-01-30T19:51:03.011327Z"
    },
    "trusted": true
   },
   "outputs": [],
   "source": [
    "X_train, X_test, y_train, y_test = train_test_split(x_new, y_new, stratify= y_new, test_size= 0.3, random_state= 42)\n",
    "X_train.head(2)"
   ]
  },
  {
   "cell_type": "code",
   "execution_count": null,
   "metadata": {
    "execution": {
     "iopub.execute_input": "2023-01-30T19:51:03.778545Z",
     "iopub.status.busy": "2023-01-30T19:51:03.778237Z",
     "iopub.status.idle": "2023-01-30T19:54:03.729459Z",
     "shell.execute_reply": "2023-01-30T19:54:03.728268Z",
     "shell.execute_reply.started": "2023-01-30T19:51:03.778518Z"
    },
    "trusted": true
   },
   "outputs": [],
   "source": [
    "model_rf = RandomForestClassifier(random_state=42)\n",
    "model_rf.fit(X_train, y_train)\n",
    "feature_importances = model_rf.feature_importances_\n",
    "features = X_train.columns\n",
    "df = pd.DataFrame({'features': features, 'importance': feature_importances})\n",
    "df.sort_values(by='importance', ascending = False)"
   ]
  },
  {
   "cell_type": "markdown",
   "metadata": {},
   "source": [
    "using random forest feature importance metric to decide on best features and building the model."
   ]
  },
  {
   "cell_type": "code",
   "execution_count": null,
   "metadata": {
    "execution": {
     "iopub.execute_input": "2023-01-30T19:54:03.732353Z",
     "iopub.status.busy": "2023-01-30T19:54:03.73123Z",
     "iopub.status.idle": "2023-01-30T19:59:45.124451Z",
     "shell.execute_reply": "2023-01-30T19:59:45.123103Z",
     "shell.execute_reply.started": "2023-01-30T19:54:03.732314Z"
    },
    "trusted": true
   },
   "outputs": [],
   "source": [
    "df = df[df.importance > 0.02]\n",
    "rf_cols = []\n",
    "for col in list(X_train.columns):\n",
    "    if col in list(df.features):\n",
    "        rf_cols.append(col)\n",
    "        \n",
    "X_train = X_train[rf_cols]\n",
    "X_test = X_test[rf_cols]\n",
    "\n",
    "model_rf = RandomForestClassifier(random_state=42)\n",
    "model_rf.fit(X_train, y_train)\n",
    "print(rf_cols)\n",
    "\n",
    "print(len(rf_cols))\n",
    "predict_rf = model_rf.predict(X_train)\n",
    "predict_rf_test = model_rf.predict(X_test)\n",
    "\n",
    "accuracy, cnf_matrix = model_eval(model_rf, X_train, y_train)\n",
    "print(\"Train results\")\n",
    "print(\"accuracy\",accuracy)\n",
    "print(\"cnf_matrix \\n\", cnf_matrix)\n",
    "\n",
    "accuracy, cnf_matrix = model_eval(model_rf, X_test, y_test)\n",
    "print(\"Test results\")\n",
    "print(\"accuracy\",accuracy)\n",
    "print(\"cnf_matrix \\n\", cnf_matrix)\n",
    "\n",
    "draw_roc(model_rf, X_test, y_test)\n"
   ]
  },
  {
   "cell_type": "code",
   "execution_count": null,
   "metadata": {
    "execution": {
     "iopub.execute_input": "2023-01-30T19:59:45.127946Z",
     "iopub.status.busy": "2023-01-30T19:59:45.12699Z",
     "iopub.status.idle": "2023-01-30T20:07:36.852522Z",
     "shell.execute_reply": "2023-01-30T20:07:36.850713Z",
     "shell.execute_reply.started": "2023-01-30T19:59:45.12789Z"
    },
    "trusted": true
   },
   "outputs": [],
   "source": [
    "temp = store_results(\"Random Forest with feature engine\", y_train, X_train, y_test, X_test, \\\n",
    "                     model_rf, 5)\n",
    "outcome = outcome.append(temp)"
   ]
  },
  {
   "cell_type": "code",
   "execution_count": null,
   "metadata": {
    "execution": {
     "iopub.execute_input": "2023-01-30T20:07:36.855653Z",
     "iopub.status.busy": "2023-01-30T20:07:36.855151Z",
     "iopub.status.idle": "2023-01-30T20:07:36.89059Z",
     "shell.execute_reply": "2023-01-30T20:07:36.889365Z",
     "shell.execute_reply.started": "2023-01-30T20:07:36.855601Z"
    },
    "trusted": true
   },
   "outputs": [],
   "source": [
    "outcome.reset_index(drop=True, inplace=True)\n",
    "outcome"
   ]
  },
  {
   "cell_type": "markdown",
   "metadata": {},
   "source": [
    "# conclusion\n",
    " If we have to select one model, Random forest classifier with feature enginnering looks promising and best. although after the feature engineering the training and test results looks same as before feature engineering, but model is very robust with new features and rightly fitted for both training and test dataset. \n",
    " Decisiontree  and logistic regression classifer seems to have low accuracy, precision, and recall, overall random forest classifier seems doing better with all aspects.\n"
   ]
  },
  {
   "cell_type": "code",
   "execution_count": null,
   "metadata": {
    "execution": {
     "iopub.execute_input": "2023-01-30T20:07:36.892582Z",
     "iopub.status.busy": "2023-01-30T20:07:36.892225Z",
     "iopub.status.idle": "2023-01-30T20:07:37.291488Z",
     "shell.execute_reply": "2023-01-30T20:07:37.290677Z",
     "shell.execute_reply.started": "2023-01-30T20:07:36.892551Z"
    },
    "trusted": true
   },
   "outputs": [],
   "source": [
    "plt.rcParams[\"figure.figsize\"] = (10,8)\n",
    "outcome.plot(x='Model', y=['Accuracy_train','Accuracy_test','CrossVal_Mean'], kind=\"bar\")\n",
    "plt.xticks(rotation=90)\n",
    "plt.show()"
   ]
  },
  {
   "cell_type": "markdown",
   "metadata": {},
   "source": [
    "# Preparing test data for sumbission"
   ]
  },
  {
   "cell_type": "code",
   "execution_count": null,
   "metadata": {
    "execution": {
     "iopub.execute_input": "2023-01-30T20:07:37.293303Z",
     "iopub.status.busy": "2023-01-30T20:07:37.292958Z",
     "iopub.status.idle": "2023-01-30T20:09:17.594822Z",
     "shell.execute_reply": "2023-01-30T20:09:17.593835Z",
     "shell.execute_reply.started": "2023-01-30T20:07:37.293265Z"
    },
    "trusted": true
   },
   "outputs": [],
   "source": [
    "test = pd.read_csv('../input/avazu-ctr-prediction/test.gz', parse_dates=['hour'], date_parser=parse_date)\n",
    "test.head(2)"
   ]
  },
  {
   "cell_type": "code",
   "execution_count": null,
   "metadata": {
    "execution": {
     "iopub.execute_input": "2023-01-30T20:09:17.597854Z",
     "iopub.status.busy": "2023-01-30T20:09:17.59646Z",
     "iopub.status.idle": "2023-01-30T20:09:19.397939Z",
     "shell.execute_reply": "2023-01-30T20:09:19.396661Z",
     "shell.execute_reply.started": "2023-01-30T20:09:17.597803Z"
    },
    "trusted": true
   },
   "outputs": [],
   "source": [
    "test['month'] = test['hour'].dt.month\n",
    "test['dayofweek'] = test['hour'].dt.dayofweek\n",
    "test['day'] = test['hour'].dt.day\n",
    "test['hour_time'] = test['hour'].dt.hour\n",
    "test.head(2)"
   ]
  },
  {
   "cell_type": "code",
   "execution_count": null,
   "metadata": {
    "execution": {
     "iopub.execute_input": "2023-01-30T20:09:19.400537Z",
     "iopub.status.busy": "2023-01-30T20:09:19.399383Z",
     "iopub.status.idle": "2023-01-30T20:09:19.93523Z",
     "shell.execute_reply": "2023-01-30T20:09:19.934024Z",
     "shell.execute_reply.started": "2023-01-30T20:09:19.400501Z"
    },
    "trusted": true
   },
   "outputs": [],
   "source": [
    "col = ['C15', 'C16', 'C19', 'C21']\n",
    "for col in col:\n",
    "    percentiles = test[col].quantile(0.98)\n",
    "    if test[col].quantile(0.98) < 0.5 * test[col].max():\n",
    "        test[col][test[col] >= percentiles] = percentiles\n"
   ]
  },
  {
   "cell_type": "code",
   "execution_count": null,
   "metadata": {
    "execution": {
     "iopub.execute_input": "2023-01-30T20:09:19.939832Z",
     "iopub.status.busy": "2023-01-30T20:09:19.938783Z",
     "iopub.status.idle": "2023-01-30T20:09:19.947046Z",
     "shell.execute_reply": "2023-01-30T20:09:19.946034Z",
     "shell.execute_reply.started": "2023-01-30T20:09:19.939778Z"
    },
    "trusted": true
   },
   "outputs": [],
   "source": [
    "'''\n",
    "test.drop(['month', 'C20'], axis=1, inplace=True)\n",
    "labelEncoder= LabelEncoder()\n",
    "for col in (test.columns):\n",
    "    if test[col].dtype == \"object\":\n",
    "        test[col] = labelEncoder.fit_transform(test[col])\n",
    "\n",
    "test.head(2)\n",
    "'''"
   ]
  },
  {
   "cell_type": "code",
   "execution_count": null,
   "metadata": {
    "execution": {
     "iopub.execute_input": "2023-01-30T20:09:19.949796Z",
     "iopub.status.busy": "2023-01-30T20:09:19.949004Z",
     "iopub.status.idle": "2023-01-30T20:09:21.338518Z",
     "shell.execute_reply": "2023-01-30T20:09:21.337424Z",
     "shell.execute_reply.started": "2023-01-30T20:09:19.949717Z"
    },
    "trusted": true
   },
   "outputs": [],
   "source": [
    "test.drop(['id', 'hour'], axis = 1, inplace = True) \n",
    "test.rename(columns={'hour_time': 'hour'},\n",
    "          inplace=True, errors='raise')\n",
    "test.columns"
   ]
  },
  {
   "cell_type": "code",
   "execution_count": null,
   "metadata": {
    "execution": {
     "iopub.execute_input": "2023-01-30T20:09:21.34024Z",
     "iopub.status.busy": "2023-01-30T20:09:21.33987Z",
     "iopub.status.idle": "2023-01-30T20:09:23.025639Z",
     "shell.execute_reply": "2023-01-30T20:09:23.024312Z",
     "shell.execute_reply.started": "2023-01-30T20:09:21.340207Z"
    },
    "trusted": true
   },
   "outputs": [],
   "source": [
    "test.drop(['month', 'C20'], axis=1, inplace=True)\n",
    "test.drop(['C14', 'C1'], axis=1, inplace= True)"
   ]
  },
  {
   "cell_type": "code",
   "execution_count": null,
   "metadata": {
    "execution": {
     "iopub.execute_input": "2023-01-30T20:09:23.027866Z",
     "iopub.status.busy": "2023-01-30T20:09:23.027128Z",
     "iopub.status.idle": "2023-01-30T20:09:23.034925Z",
     "shell.execute_reply": "2023-01-30T20:09:23.033646Z",
     "shell.execute_reply.started": "2023-01-30T20:09:23.02783Z"
    },
    "trusted": true
   },
   "outputs": [],
   "source": [
    "'''\n",
    "for col in (test.columns):\n",
    "    print(col)\n",
    "    if test[col].dtype == \"object\":\n",
    "        test[col] = target_encoder.transform(test)\n",
    "\n",
    "test.head(2)\n",
    "'''"
   ]
  },
  {
   "cell_type": "code",
   "execution_count": null,
   "metadata": {
    "execution": {
     "iopub.execute_input": "2023-01-30T20:09:23.036237Z",
     "iopub.status.busy": "2023-01-30T20:09:23.035922Z",
     "iopub.status.idle": "2023-01-30T20:09:45.999363Z",
     "shell.execute_reply": "2023-01-30T20:09:45.998154Z",
     "shell.execute_reply.started": "2023-01-30T20:09:23.03621Z"
    },
    "trusted": true
   },
   "outputs": [],
   "source": [
    "test =  target_encoder.transform(test)\n",
    "test.head(2)"
   ]
  },
  {
   "cell_type": "code",
   "execution_count": null,
   "metadata": {
    "execution": {
     "iopub.execute_input": "2023-01-30T20:09:46.002305Z",
     "iopub.status.busy": "2023-01-30T20:09:46.001421Z",
     "iopub.status.idle": "2023-01-30T20:09:48.700177Z",
     "shell.execute_reply": "2023-01-30T20:09:48.69893Z",
     "shell.execute_reply.started": "2023-01-30T20:09:46.002258Z"
    },
    "trusted": true
   },
   "outputs": [],
   "source": [
    "test[test.columns]  = scaler.transform(test[test.columns])\n",
    "test.head(2)"
   ]
  },
  {
   "cell_type": "code",
   "execution_count": null,
   "metadata": {
    "execution": {
     "iopub.execute_input": "2023-01-30T20:09:48.702236Z",
     "iopub.status.busy": "2023-01-30T20:09:48.701785Z",
     "iopub.status.idle": "2023-01-30T20:09:48.709699Z",
     "shell.execute_reply": "2023-01-30T20:09:48.708522Z",
     "shell.execute_reply.started": "2023-01-30T20:09:48.702195Z"
    },
    "trusted": true
   },
   "outputs": [],
   "source": [
    "# random forest with balanced data was our best model, hence using the same for submission.\n",
    "rf_cols"
   ]
  },
  {
   "cell_type": "code",
   "execution_count": null,
   "metadata": {
    "execution": {
     "iopub.execute_input": "2023-01-30T20:09:48.712121Z",
     "iopub.status.busy": "2023-01-30T20:09:48.711366Z",
     "iopub.status.idle": "2023-01-30T20:11:09.26103Z",
     "shell.execute_reply": "2023-01-30T20:11:09.259047Z",
     "shell.execute_reply.started": "2023-01-30T20:09:48.712077Z"
    },
    "trusted": true
   },
   "outputs": [],
   "source": [
    "test = test[rf_cols]\n",
    "predict_sub = model_rf.predict(test)\n",
    "print(len(predict_sub))\n",
    "print(print(len(submission)))\n",
    "print(predict_sub)"
   ]
  },
  {
   "cell_type": "code",
   "execution_count": null,
   "metadata": {
    "execution": {
     "iopub.execute_input": "2023-01-30T20:11:09.265479Z",
     "iopub.status.busy": "2023-01-30T20:11:09.265101Z",
     "iopub.status.idle": "2023-01-30T20:11:09.326842Z",
     "shell.execute_reply": "2023-01-30T20:11:09.324447Z",
     "shell.execute_reply.started": "2023-01-30T20:11:09.265445Z"
    },
    "trusted": true
   },
   "outputs": [],
   "source": [
    "submission['click'] = predict_sub\n",
    "submission.head(2)"
   ]
  },
  {
   "cell_type": "code",
   "execution_count": null,
   "metadata": {
    "execution": {
     "iopub.execute_input": "2023-01-30T20:11:09.33207Z",
     "iopub.status.busy": "2023-01-30T20:11:09.33094Z",
     "iopub.status.idle": "2023-01-30T20:11:20.198944Z",
     "shell.execute_reply": "2023-01-30T20:11:20.197778Z",
     "shell.execute_reply.started": "2023-01-30T20:11:09.331958Z"
    },
    "trusted": true
   },
   "outputs": [],
   "source": [
    "submission.to_csv('submission.csv', index = False)"
   ]
  },
  {
   "cell_type": "markdown",
   "metadata": {},
   "source": [
    "********************************************************** END **********************************************************"
   ]
  }
 ],
 "metadata": {
  "kaggle": {
   "accelerator": "none",
   "dataSources": [
    {
     "databundleVersionId": 44256,
     "sourceId": 4120,
     "sourceType": "competition"
    }
   ],
   "dockerImageVersionId": 30357,
   "isGpuEnabled": false,
   "isInternetEnabled": true,
   "language": "python",
   "sourceType": "notebook"
  },
  "kernelspec": {
   "display_name": "criteo_ctr_mlops",
   "language": "python",
   "name": "python3"
  },
  "language_info": {
   "codemirror_mode": {
    "name": "ipython",
    "version": 3
   },
   "file_extension": ".py",
   "mimetype": "text/x-python",
   "name": "python",
   "nbconvert_exporter": "python",
   "pygments_lexer": "ipython3",
   "version": "3.12.9"
  }
 },
 "nbformat": 4,
 "nbformat_minor": 4
}
